{
 "cells": [
  {
   "cell_type": "markdown",
   "metadata": {},
   "source": [
    "# Amazon Fine Food Reviews Analysis\n",
    "\n",
    "\n",
    "Data Source: https://www.kaggle.com/snap/amazon-fine-food-reviews <br>\n",
    "\n",
    "EDA: https://nycdatascience.com/blog/student-works/amazon-fine-foods-visualization/\n",
    "\n",
    "\n",
    "The Amazon Fine Food Reviews dataset consists of reviews of fine foods from Amazon.<br>\n",
    "\n",
    "Number of reviews: 568,454<br>\n",
    "Number of users: 256,059<br>\n",
    "Number of products: 74,258<br>\n",
    "Timespan: Oct 1999 - Oct 2012<br>\n",
    "Number of Attributes/Columns in data: 10 \n",
    "\n",
    "Attribute Information:\n",
    "\n",
    "1. Id\n",
    "2. ProductId - unique identifier for the product\n",
    "3. UserId - unqiue identifier for the user\n",
    "4. ProfileName\n",
    "5. HelpfulnessNumerator - number of users who found the review helpful\n",
    "6. HelpfulnessDenominator - number of users who indicated whether they found the review helpful or not\n",
    "7. Score - rating between 1 and 5\n",
    "8. Time - timestamp for the review\n",
    "9. Summary - brief summary of the review\n",
    "10. Text - text of the review\n",
    "\n",
    "\n",
    "#### Objective:\n",
    "Given a review, determine whether the review is positive (rating of 4 or 5) or negative (rating of 1 or 2).\n",
    "\n",
    "<br>\n",
    "[Q] How to determine if a review is positive or negative?<br>\n",
    "<br> \n",
    "[Ans] We could use Score/Rating. A rating of 4 or 5 can be cosnidered as a positive review. A rating of 1 or 2 can be considered as negative one. A review of rating 3 is considered nuetral and such reviews are ignored from our analysis. This is an approximate and proxy way of determining the polarity (positivity/negativity) of a review.\n",
    "\n",
    "\n"
   ]
  },
  {
   "cell_type": "markdown",
   "metadata": {},
   "source": [
    "# [1]. Reading Data"
   ]
  },
  {
   "cell_type": "markdown",
   "metadata": {},
   "source": [
    "## [1.1] Loading the data\n",
    "\n",
    "The dataset is available in two forms\n",
    "1. .csv file\n",
    "2. SQLite Database\n",
    "\n",
    "In order to load the data, We have used the SQLITE dataset as it is easier to query the data and visualise the data efficiently.\n",
    "<br> \n",
    "\n",
    "Here as we only want to get the global sentiment of the recommendations (positive or negative), we will purposefully ignore all Scores equal to 3. If the score is above 3, then the recommendation wil be set to \"positive\". Otherwise, it will be set to \"negative\"."
   ]
  },
  {
   "cell_type": "code",
   "execution_count": 1,
   "metadata": {},
   "outputs": [],
   "source": [
    "#Refered/code-reusebility from ipynb from applied_ai_course notes \n",
    "\n",
    "%matplotlib inline\n",
    "import warnings\n",
    "warnings.filterwarnings(\"ignore\")\n",
    "import sqlite3\n",
    "import pandas as pd\n",
    "import numpy as np\n",
    "import nltk\n",
    "import string\n",
    "import matplotlib.pyplot as plt\n",
    "import seaborn as sns"
   ]
  },
  {
   "cell_type": "code",
   "execution_count": 2,
   "metadata": {},
   "outputs": [
    {
     "name": "stdout",
     "output_type": "stream",
     "text": [
      "Number of data points in our data (50000, 10)\n"
     ]
    },
    {
     "data": {
      "text/html": [
       "<div>\n",
       "<style scoped>\n",
       "    .dataframe tbody tr th:only-of-type {\n",
       "        vertical-align: middle;\n",
       "    }\n",
       "\n",
       "    .dataframe tbody tr th {\n",
       "        vertical-align: top;\n",
       "    }\n",
       "\n",
       "    .dataframe thead th {\n",
       "        text-align: right;\n",
       "    }\n",
       "</style>\n",
       "<table border=\"1\" class=\"dataframe\">\n",
       "  <thead>\n",
       "    <tr style=\"text-align: right;\">\n",
       "      <th></th>\n",
       "      <th>Id</th>\n",
       "      <th>ProductId</th>\n",
       "      <th>UserId</th>\n",
       "      <th>ProfileName</th>\n",
       "      <th>HelpfulnessNumerator</th>\n",
       "      <th>HelpfulnessDenominator</th>\n",
       "      <th>Score</th>\n",
       "      <th>Time</th>\n",
       "      <th>Summary</th>\n",
       "      <th>Text</th>\n",
       "    </tr>\n",
       "  </thead>\n",
       "  <tbody>\n",
       "    <tr>\n",
       "      <th>0</th>\n",
       "      <td>1</td>\n",
       "      <td>B001E4KFG0</td>\n",
       "      <td>A3SGXH7AUHU8GW</td>\n",
       "      <td>delmartian</td>\n",
       "      <td>1</td>\n",
       "      <td>1</td>\n",
       "      <td>1</td>\n",
       "      <td>1303862400</td>\n",
       "      <td>Good Quality Dog Food</td>\n",
       "      <td>I have bought several of the Vitality canned d...</td>\n",
       "    </tr>\n",
       "    <tr>\n",
       "      <th>1</th>\n",
       "      <td>2</td>\n",
       "      <td>B00813GRG4</td>\n",
       "      <td>A1D87F6ZCVE5NK</td>\n",
       "      <td>dll pa</td>\n",
       "      <td>0</td>\n",
       "      <td>0</td>\n",
       "      <td>0</td>\n",
       "      <td>1346976000</td>\n",
       "      <td>Not as Advertised</td>\n",
       "      <td>Product arrived labeled as Jumbo Salted Peanut...</td>\n",
       "    </tr>\n",
       "    <tr>\n",
       "      <th>2</th>\n",
       "      <td>3</td>\n",
       "      <td>B000LQOCH0</td>\n",
       "      <td>ABXLMWJIXXAIN</td>\n",
       "      <td>Natalia Corres \"Natalia Corres\"</td>\n",
       "      <td>1</td>\n",
       "      <td>1</td>\n",
       "      <td>1</td>\n",
       "      <td>1219017600</td>\n",
       "      <td>\"Delight\" says it all</td>\n",
       "      <td>This is a confection that has been around a fe...</td>\n",
       "    </tr>\n",
       "  </tbody>\n",
       "</table>\n",
       "</div>"
      ],
      "text/plain": [
       "   Id   ProductId          UserId                      ProfileName  \\\n",
       "0   1  B001E4KFG0  A3SGXH7AUHU8GW                       delmartian   \n",
       "1   2  B00813GRG4  A1D87F6ZCVE5NK                           dll pa   \n",
       "2   3  B000LQOCH0   ABXLMWJIXXAIN  Natalia Corres \"Natalia Corres\"   \n",
       "\n",
       "   HelpfulnessNumerator  HelpfulnessDenominator  Score        Time  \\\n",
       "0                     1                       1      1  1303862400   \n",
       "1                     0                       0      0  1346976000   \n",
       "2                     1                       1      1  1219017600   \n",
       "\n",
       "                 Summary                                               Text  \n",
       "0  Good Quality Dog Food  I have bought several of the Vitality canned d...  \n",
       "1      Not as Advertised  Product arrived labeled as Jumbo Salted Peanut...  \n",
       "2  \"Delight\" says it all  This is a confection that has been around a fe...  "
      ]
     },
     "execution_count": 2,
     "metadata": {},
     "output_type": "execute_result"
    }
   ],
   "source": [
    "\n",
    "# using the SQLite Table to read data.\n",
    "con = sqlite3.connect('database.sqlite') \n",
    "#filtering only positive and negative reviews i.e. \n",
    "# not taking into consideration those reviews with Score=3\n",
    "# SELECT * FROM Reviews WHERE Score != 3 LIMIT 500000, will give top 500000 data points\n",
    "# you can change the number to any other number based on your computing power\n",
    "\n",
    "# filtered_data = pd.read_sql_query(\"\"\" SELECT * FROM Reviews WHERE Score != 3 LIMIT 500000\"\"\", con) \n",
    "\n",
    "\n",
    "filtered_data = pd.read_sql_query(\"\"\" SELECT * FROM Reviews WHERE Score != 3 LIMIT 50000\"\"\", con) \n",
    "\n",
    "# Give reviews with Score>3 a positive rating, and reviews with a score<3 a negative rating.\n",
    "def partition(x):\n",
    "    if x < 3:\n",
    "        return 0\n",
    "    return 1\n",
    "\n",
    "#changing reviews with score less than 3 to be positive and vice-versa\n",
    "actualScore = filtered_data['Score']\n",
    "positiveNegative = actualScore.map(partition) \n",
    "filtered_data['Score'] = positiveNegative\n",
    "print(\"Number of data points in our data\", filtered_data.shape)\n",
    "filtered_data.head(3)"
   ]
  },
  {
   "cell_type": "code",
   "execution_count": 3,
   "metadata": {},
   "outputs": [],
   "source": [
    "display = pd.read_sql_query(\"\"\"\n",
    "SELECT UserId, ProductId, ProfileName, Time, Score, Text, COUNT(*)\n",
    "FROM Reviews\n",
    "GROUP BY UserId \n",
    "HAVING COUNT(*)>1\n",
    "LIMIT 50000\n",
    "\"\"\", con)"
   ]
  },
  {
   "cell_type": "code",
   "execution_count": 4,
   "metadata": {
    "scrolled": true
   },
   "outputs": [
    {
     "name": "stdout",
     "output_type": "stream",
     "text": [
      "(50000, 7)\n"
     ]
    },
    {
     "data": {
      "text/html": [
       "<div>\n",
       "<style scoped>\n",
       "    .dataframe tbody tr th:only-of-type {\n",
       "        vertical-align: middle;\n",
       "    }\n",
       "\n",
       "    .dataframe tbody tr th {\n",
       "        vertical-align: top;\n",
       "    }\n",
       "\n",
       "    .dataframe thead th {\n",
       "        text-align: right;\n",
       "    }\n",
       "</style>\n",
       "<table border=\"1\" class=\"dataframe\">\n",
       "  <thead>\n",
       "    <tr style=\"text-align: right;\">\n",
       "      <th></th>\n",
       "      <th>UserId</th>\n",
       "      <th>ProductId</th>\n",
       "      <th>ProfileName</th>\n",
       "      <th>Time</th>\n",
       "      <th>Score</th>\n",
       "      <th>Text</th>\n",
       "      <th>COUNT(*)</th>\n",
       "    </tr>\n",
       "  </thead>\n",
       "  <tbody>\n",
       "    <tr>\n",
       "      <th>0</th>\n",
       "      <td>#oc-R115TNMSPFT9I7</td>\n",
       "      <td>B007Y59HVM</td>\n",
       "      <td>Breyton</td>\n",
       "      <td>1331510400</td>\n",
       "      <td>2</td>\n",
       "      <td>Overall its just OK when considering the price...</td>\n",
       "      <td>2</td>\n",
       "    </tr>\n",
       "    <tr>\n",
       "      <th>1</th>\n",
       "      <td>#oc-R11D9D7SHXIJB9</td>\n",
       "      <td>B005HG9ET0</td>\n",
       "      <td>Louis E. Emory \"hoppy\"</td>\n",
       "      <td>1342396800</td>\n",
       "      <td>5</td>\n",
       "      <td>My wife has recurring extreme muscle spasms, u...</td>\n",
       "      <td>3</td>\n",
       "    </tr>\n",
       "    <tr>\n",
       "      <th>2</th>\n",
       "      <td>#oc-R11DNU2NBKQ23Z</td>\n",
       "      <td>B007Y59HVM</td>\n",
       "      <td>Kim Cieszykowski</td>\n",
       "      <td>1348531200</td>\n",
       "      <td>1</td>\n",
       "      <td>This coffee is horrible and unfortunately not ...</td>\n",
       "      <td>2</td>\n",
       "    </tr>\n",
       "    <tr>\n",
       "      <th>3</th>\n",
       "      <td>#oc-R11O5J5ZVQE25C</td>\n",
       "      <td>B005HG9ET0</td>\n",
       "      <td>Penguin Chick</td>\n",
       "      <td>1346889600</td>\n",
       "      <td>5</td>\n",
       "      <td>This will be the bottle that you grab from the...</td>\n",
       "      <td>3</td>\n",
       "    </tr>\n",
       "    <tr>\n",
       "      <th>4</th>\n",
       "      <td>#oc-R12KPBODL2B5ZD</td>\n",
       "      <td>B007OSBE1U</td>\n",
       "      <td>Christopher P. Presta</td>\n",
       "      <td>1348617600</td>\n",
       "      <td>1</td>\n",
       "      <td>I didnt like this coffee. Instead of telling y...</td>\n",
       "      <td>2</td>\n",
       "    </tr>\n",
       "  </tbody>\n",
       "</table>\n",
       "</div>"
      ],
      "text/plain": [
       "               UserId   ProductId             ProfileName        Time  Score  \\\n",
       "0  #oc-R115TNMSPFT9I7  B007Y59HVM                 Breyton  1331510400      2   \n",
       "1  #oc-R11D9D7SHXIJB9  B005HG9ET0  Louis E. Emory \"hoppy\"  1342396800      5   \n",
       "2  #oc-R11DNU2NBKQ23Z  B007Y59HVM        Kim Cieszykowski  1348531200      1   \n",
       "3  #oc-R11O5J5ZVQE25C  B005HG9ET0           Penguin Chick  1346889600      5   \n",
       "4  #oc-R12KPBODL2B5ZD  B007OSBE1U   Christopher P. Presta  1348617600      1   \n",
       "\n",
       "                                                Text  COUNT(*)  \n",
       "0  Overall its just OK when considering the price...         2  \n",
       "1  My wife has recurring extreme muscle spasms, u...         3  \n",
       "2  This coffee is horrible and unfortunately not ...         2  \n",
       "3  This will be the bottle that you grab from the...         3  \n",
       "4  I didnt like this coffee. Instead of telling y...         2  "
      ]
     },
     "execution_count": 4,
     "metadata": {},
     "output_type": "execute_result"
    }
   ],
   "source": [
    "print(display.shape)\n",
    "display.head(5)"
   ]
  },
  {
   "cell_type": "code",
   "execution_count": 5,
   "metadata": {},
   "outputs": [
    {
     "data": {
      "text/plain": [
       "242667"
      ]
     },
     "execution_count": 5,
     "metadata": {},
     "output_type": "execute_result"
    }
   ],
   "source": [
    "display['COUNT(*)'].sum()"
   ]
  },
  {
   "cell_type": "code",
   "execution_count": 6,
   "metadata": {},
   "outputs": [
    {
     "data": {
      "text/html": [
       "<div>\n",
       "<style scoped>\n",
       "    .dataframe tbody tr th:only-of-type {\n",
       "        vertical-align: middle;\n",
       "    }\n",
       "\n",
       "    .dataframe tbody tr th {\n",
       "        vertical-align: top;\n",
       "    }\n",
       "\n",
       "    .dataframe thead th {\n",
       "        text-align: right;\n",
       "    }\n",
       "</style>\n",
       "<table border=\"1\" class=\"dataframe\">\n",
       "  <thead>\n",
       "    <tr style=\"text-align: right;\">\n",
       "      <th></th>\n",
       "      <th>UserId</th>\n",
       "      <th>ProductId</th>\n",
       "      <th>ProfileName</th>\n",
       "      <th>Time</th>\n",
       "      <th>Score</th>\n",
       "      <th>Text</th>\n",
       "      <th>COUNT(*)</th>\n",
       "    </tr>\n",
       "  </thead>\n",
       "  <tbody>\n",
       "    <tr>\n",
       "      <th>0</th>\n",
       "      <td>AZY10LLTJ71NX</td>\n",
       "      <td>B006P7E5ZI</td>\n",
       "      <td>undertheshrine \"undertheshrine\"</td>\n",
       "      <td>1334707200</td>\n",
       "      <td>5</td>\n",
       "      <td>I was recommended to try green tea extract to ...</td>\n",
       "      <td>5</td>\n",
       "    </tr>\n",
       "  </tbody>\n",
       "</table>\n",
       "</div>"
      ],
      "text/plain": [
       "          UserId   ProductId                      ProfileName        Time  \\\n",
       "0  AZY10LLTJ71NX  B006P7E5ZI  undertheshrine \"undertheshrine\"  1334707200   \n",
       "\n",
       "   Score                                               Text  COUNT(*)  \n",
       "0      5  I was recommended to try green tea extract to ...         5  "
      ]
     },
     "execution_count": 6,
     "metadata": {},
     "output_type": "execute_result"
    }
   ],
   "source": [
    "display = pd.read_sql_query(\"\"\"\n",
    "SELECT UserId, ProductId, ProfileName, Time, Score, Text, COUNT(*)\n",
    "FROM Reviews\n",
    "WHERE UserId ='AZY10LLTJ71NX'\n",
    "GROUP BY UserId \n",
    "HAVING COUNT(*)>1 \n",
    "LIMIT 50000\n",
    "\"\"\", con)\n",
    "display.head()\n",
    "#display[display['UserId']=='AZY10LLTJ71NX']\n"
   ]
  },
  {
   "cell_type": "markdown",
   "metadata": {},
   "source": [
    "#  [2] Exploratory Data Analysis"
   ]
  },
  {
   "cell_type": "markdown",
   "metadata": {},
   "source": [
    "## [2.1] Data Cleaning: Deduplication\n",
    "\n",
    "It is observed (as shown in the table below) that the reviews data had many duplicate entries. Hence it was necessary to remove duplicates in order to get unbiased results for the analysis of the data.  Following is an example:"
   ]
  },
  {
   "cell_type": "code",
   "execution_count": 7,
   "metadata": {
    "scrolled": false
   },
   "outputs": [
    {
     "data": {
      "text/html": [
       "<div>\n",
       "<style scoped>\n",
       "    .dataframe tbody tr th:only-of-type {\n",
       "        vertical-align: middle;\n",
       "    }\n",
       "\n",
       "    .dataframe tbody tr th {\n",
       "        vertical-align: top;\n",
       "    }\n",
       "\n",
       "    .dataframe thead th {\n",
       "        text-align: right;\n",
       "    }\n",
       "</style>\n",
       "<table border=\"1\" class=\"dataframe\">\n",
       "  <thead>\n",
       "    <tr style=\"text-align: right;\">\n",
       "      <th></th>\n",
       "      <th>Id</th>\n",
       "      <th>ProductId</th>\n",
       "      <th>UserId</th>\n",
       "      <th>ProfileName</th>\n",
       "      <th>HelpfulnessNumerator</th>\n",
       "      <th>HelpfulnessDenominator</th>\n",
       "      <th>Score</th>\n",
       "      <th>Time</th>\n",
       "      <th>Summary</th>\n",
       "      <th>Text</th>\n",
       "    </tr>\n",
       "  </thead>\n",
       "  <tbody>\n",
       "    <tr>\n",
       "      <th>0</th>\n",
       "      <td>78445</td>\n",
       "      <td>B000HDL1RQ</td>\n",
       "      <td>AR5J8UI46CURR</td>\n",
       "      <td>Geetha Krishnan</td>\n",
       "      <td>2</td>\n",
       "      <td>2</td>\n",
       "      <td>5</td>\n",
       "      <td>1199577600</td>\n",
       "      <td>LOACKER QUADRATINI VANILLA WAFERS</td>\n",
       "      <td>DELICIOUS WAFERS. I FIND THAT EUROPEAN WAFERS ...</td>\n",
       "    </tr>\n",
       "    <tr>\n",
       "      <th>1</th>\n",
       "      <td>138317</td>\n",
       "      <td>B000HDOPYC</td>\n",
       "      <td>AR5J8UI46CURR</td>\n",
       "      <td>Geetha Krishnan</td>\n",
       "      <td>2</td>\n",
       "      <td>2</td>\n",
       "      <td>5</td>\n",
       "      <td>1199577600</td>\n",
       "      <td>LOACKER QUADRATINI VANILLA WAFERS</td>\n",
       "      <td>DELICIOUS WAFERS. I FIND THAT EUROPEAN WAFERS ...</td>\n",
       "    </tr>\n",
       "    <tr>\n",
       "      <th>2</th>\n",
       "      <td>138277</td>\n",
       "      <td>B000HDOPYM</td>\n",
       "      <td>AR5J8UI46CURR</td>\n",
       "      <td>Geetha Krishnan</td>\n",
       "      <td>2</td>\n",
       "      <td>2</td>\n",
       "      <td>5</td>\n",
       "      <td>1199577600</td>\n",
       "      <td>LOACKER QUADRATINI VANILLA WAFERS</td>\n",
       "      <td>DELICIOUS WAFERS. I FIND THAT EUROPEAN WAFERS ...</td>\n",
       "    </tr>\n",
       "    <tr>\n",
       "      <th>3</th>\n",
       "      <td>73791</td>\n",
       "      <td>B000HDOPZG</td>\n",
       "      <td>AR5J8UI46CURR</td>\n",
       "      <td>Geetha Krishnan</td>\n",
       "      <td>2</td>\n",
       "      <td>2</td>\n",
       "      <td>5</td>\n",
       "      <td>1199577600</td>\n",
       "      <td>LOACKER QUADRATINI VANILLA WAFERS</td>\n",
       "      <td>DELICIOUS WAFERS. I FIND THAT EUROPEAN WAFERS ...</td>\n",
       "    </tr>\n",
       "    <tr>\n",
       "      <th>4</th>\n",
       "      <td>155049</td>\n",
       "      <td>B000PAQ75C</td>\n",
       "      <td>AR5J8UI46CURR</td>\n",
       "      <td>Geetha Krishnan</td>\n",
       "      <td>2</td>\n",
       "      <td>2</td>\n",
       "      <td>5</td>\n",
       "      <td>1199577600</td>\n",
       "      <td>LOACKER QUADRATINI VANILLA WAFERS</td>\n",
       "      <td>DELICIOUS WAFERS. I FIND THAT EUROPEAN WAFERS ...</td>\n",
       "    </tr>\n",
       "  </tbody>\n",
       "</table>\n",
       "</div>"
      ],
      "text/plain": [
       "       Id   ProductId         UserId      ProfileName  HelpfulnessNumerator  \\\n",
       "0   78445  B000HDL1RQ  AR5J8UI46CURR  Geetha Krishnan                     2   \n",
       "1  138317  B000HDOPYC  AR5J8UI46CURR  Geetha Krishnan                     2   \n",
       "2  138277  B000HDOPYM  AR5J8UI46CURR  Geetha Krishnan                     2   \n",
       "3   73791  B000HDOPZG  AR5J8UI46CURR  Geetha Krishnan                     2   \n",
       "4  155049  B000PAQ75C  AR5J8UI46CURR  Geetha Krishnan                     2   \n",
       "\n",
       "   HelpfulnessDenominator  Score        Time  \\\n",
       "0                       2      5  1199577600   \n",
       "1                       2      5  1199577600   \n",
       "2                       2      5  1199577600   \n",
       "3                       2      5  1199577600   \n",
       "4                       2      5  1199577600   \n",
       "\n",
       "                             Summary  \\\n",
       "0  LOACKER QUADRATINI VANILLA WAFERS   \n",
       "1  LOACKER QUADRATINI VANILLA WAFERS   \n",
       "2  LOACKER QUADRATINI VANILLA WAFERS   \n",
       "3  LOACKER QUADRATINI VANILLA WAFERS   \n",
       "4  LOACKER QUADRATINI VANILLA WAFERS   \n",
       "\n",
       "                                                Text  \n",
       "0  DELICIOUS WAFERS. I FIND THAT EUROPEAN WAFERS ...  \n",
       "1  DELICIOUS WAFERS. I FIND THAT EUROPEAN WAFERS ...  \n",
       "2  DELICIOUS WAFERS. I FIND THAT EUROPEAN WAFERS ...  \n",
       "3  DELICIOUS WAFERS. I FIND THAT EUROPEAN WAFERS ...  \n",
       "4  DELICIOUS WAFERS. I FIND THAT EUROPEAN WAFERS ...  "
      ]
     },
     "execution_count": 7,
     "metadata": {},
     "output_type": "execute_result"
    }
   ],
   "source": [
    "display= pd.read_sql_query(\"\"\"\n",
    "SELECT *\n",
    "FROM Reviews\n",
    "WHERE Score != 3 AND UserId=\"AR5J8UI46CURR\"\n",
    "ORDER BY ProductID\n",
    "\"\"\", con)\n",
    "display.head(5)"
   ]
  },
  {
   "cell_type": "markdown",
   "metadata": {},
   "source": [
    "As it can be seen above that same user has multiple reviews with same values for HelpfulnessNumerator, HelpfulnessDenominator, Score, Time, Summary and Text and on doing analysis it was found that <br>\n",
    "<br> \n",
    "ProductId=B000HDOPZG was Loacker Quadratini Vanilla Wafer Cookies, 8.82-Ounce Packages (Pack of 8)<br>\n",
    "<br> \n",
    "ProductId=B000HDL1RQ was Loacker Quadratini Lemon Wafer Cookies, 8.82-Ounce Packages (Pack of 8) and so on<br>\n",
    "\n",
    "It was inferred after analysis that reviews with same parameters other than ProductId belonged to the same product just having different flavour or quantity. Hence in order to reduce redundancy it was decided to eliminate the rows having same parameters.<br>\n",
    "\n",
    "The method used for the same was that we first sort the data according to ProductId and then just keep the first similar product review and delelte the others. for eg. in the above just the review for ProductId=B000HDL1RQ remains. This method ensures that there is only one representative for each product and deduplication without sorting would lead to possibility of different representatives still existing for the same product."
   ]
  },
  {
   "cell_type": "code",
   "execution_count": 8,
   "metadata": {},
   "outputs": [],
   "source": [
    "#Sorting data according to ProductId in ascending order\n",
    "sorted_data=filtered_data.sort_values('ProductId', axis=0, ascending=True, inplace=False, kind='quicksort', na_position='last')"
   ]
  },
  {
   "cell_type": "code",
   "execution_count": 9,
   "metadata": {},
   "outputs": [
    {
     "data": {
      "text/plain": [
       "(46072, 10)"
      ]
     },
     "execution_count": 9,
     "metadata": {},
     "output_type": "execute_result"
    }
   ],
   "source": [
    "#Deduplication of entries\n",
    "final=sorted_data.drop_duplicates(subset={\"UserId\",\"ProfileName\",\"Time\",\"Text\"}, keep='first', inplace=False)\n",
    "final.shape"
   ]
  },
  {
   "cell_type": "code",
   "execution_count": 10,
   "metadata": {},
   "outputs": [
    {
     "data": {
      "text/plain": [
       "92.144"
      ]
     },
     "execution_count": 10,
     "metadata": {},
     "output_type": "execute_result"
    }
   ],
   "source": [
    "#Checking to see how much % of data still remains\n",
    "(final['Id'].size*1.0)/(filtered_data['Id'].size*1.0)*100"
   ]
  },
  {
   "cell_type": "markdown",
   "metadata": {},
   "source": [
    "<b>Observation:-</b> It was also seen that in two rows given below the value of HelpfulnessNumerator is greater than HelpfulnessDenominator which is not practically possible hence these two rows too are removed from calcualtions"
   ]
  },
  {
   "cell_type": "code",
   "execution_count": 11,
   "metadata": {},
   "outputs": [
    {
     "data": {
      "text/html": [
       "<div>\n",
       "<style scoped>\n",
       "    .dataframe tbody tr th:only-of-type {\n",
       "        vertical-align: middle;\n",
       "    }\n",
       "\n",
       "    .dataframe tbody tr th {\n",
       "        vertical-align: top;\n",
       "    }\n",
       "\n",
       "    .dataframe thead th {\n",
       "        text-align: right;\n",
       "    }\n",
       "</style>\n",
       "<table border=\"1\" class=\"dataframe\">\n",
       "  <thead>\n",
       "    <tr style=\"text-align: right;\">\n",
       "      <th></th>\n",
       "      <th>Id</th>\n",
       "      <th>ProductId</th>\n",
       "      <th>UserId</th>\n",
       "      <th>ProfileName</th>\n",
       "      <th>HelpfulnessNumerator</th>\n",
       "      <th>HelpfulnessDenominator</th>\n",
       "      <th>Score</th>\n",
       "      <th>Time</th>\n",
       "      <th>Summary</th>\n",
       "      <th>Text</th>\n",
       "    </tr>\n",
       "  </thead>\n",
       "  <tbody>\n",
       "    <tr>\n",
       "      <th>0</th>\n",
       "      <td>64422</td>\n",
       "      <td>B000MIDROQ</td>\n",
       "      <td>A161DK06JJMCYF</td>\n",
       "      <td>J. E. Stephens \"Jeanne\"</td>\n",
       "      <td>3</td>\n",
       "      <td>1</td>\n",
       "      <td>5</td>\n",
       "      <td>1224892800</td>\n",
       "      <td>Bought This for My Son at College</td>\n",
       "      <td>My son loves spaghetti so I didn't hesitate or...</td>\n",
       "    </tr>\n",
       "    <tr>\n",
       "      <th>1</th>\n",
       "      <td>44737</td>\n",
       "      <td>B001EQ55RW</td>\n",
       "      <td>A2V0I904FH7ABY</td>\n",
       "      <td>Ram</td>\n",
       "      <td>3</td>\n",
       "      <td>2</td>\n",
       "      <td>4</td>\n",
       "      <td>1212883200</td>\n",
       "      <td>Pure cocoa taste with crunchy almonds inside</td>\n",
       "      <td>It was almost a 'love at first bite' - the per...</td>\n",
       "    </tr>\n",
       "  </tbody>\n",
       "</table>\n",
       "</div>"
      ],
      "text/plain": [
       "      Id   ProductId          UserId              ProfileName  \\\n",
       "0  64422  B000MIDROQ  A161DK06JJMCYF  J. E. Stephens \"Jeanne\"   \n",
       "1  44737  B001EQ55RW  A2V0I904FH7ABY                      Ram   \n",
       "\n",
       "   HelpfulnessNumerator  HelpfulnessDenominator  Score        Time  \\\n",
       "0                     3                       1      5  1224892800   \n",
       "1                     3                       2      4  1212883200   \n",
       "\n",
       "                                        Summary  \\\n",
       "0             Bought This for My Son at College   \n",
       "1  Pure cocoa taste with crunchy almonds inside   \n",
       "\n",
       "                                                Text  \n",
       "0  My son loves spaghetti so I didn't hesitate or...  \n",
       "1  It was almost a 'love at first bite' - the per...  "
      ]
     },
     "execution_count": 11,
     "metadata": {},
     "output_type": "execute_result"
    }
   ],
   "source": [
    "display= pd.read_sql_query(\"\"\"\n",
    "SELECT *\n",
    "FROM Reviews\n",
    "WHERE Score != 3 AND Id=44737 OR Id=64422\n",
    "ORDER BY ProductID\n",
    "\"\"\", con)\n",
    "\n",
    "display.head()"
   ]
  },
  {
   "cell_type": "code",
   "execution_count": 12,
   "metadata": {},
   "outputs": [],
   "source": [
    "\n",
    "final=final[final.HelpfulnessNumerator<=final.HelpfulnessDenominator]"
   ]
  },
  {
   "cell_type": "code",
   "execution_count": 13,
   "metadata": {},
   "outputs": [
    {
     "name": "stdout",
     "output_type": "stream",
     "text": [
      "(46071, 10)\n"
     ]
    },
    {
     "data": {
      "text/plain": [
       "1    38479\n",
       "0     7592\n",
       "Name: Score, dtype: int64"
      ]
     },
     "execution_count": 13,
     "metadata": {},
     "output_type": "execute_result"
    }
   ],
   "source": [
    "#Before starting the next phase of preprocessing lets see the number of entries left\n",
    "print(final.shape)\n",
    "\n",
    "#How many positive and negative reviews are present in our dataset?\n",
    "final['Score'].value_counts()\n"
   ]
  },
  {
   "cell_type": "markdown",
   "metadata": {},
   "source": [
    "#  [3] Preprocessing"
   ]
  },
  {
   "cell_type": "markdown",
   "metadata": {},
   "source": [
    "## [3.1].  Preprocessing Review Text\n",
    "\n",
    "Now that we have finished deduplication our data requires some preprocessing before we go on further with analysis and making the prediction model.\n",
    "\n",
    "Hence in the Preprocessing phase we do the following in the order below:-\n",
    "\n",
    "1. Begin by removing the html tags\n",
    "2. Remove any punctuations or limited set of special characters like , or . or # etc.\n",
    "3. Check if the word is made up of english letters and is not alpha-numeric\n",
    "4. Check to see if the length of the word is greater than 2 (as it was researched that there is no adjective in 2-letters)\n",
    "5. Convert the word to lowercase\n",
    "6. Remove Stopwords\n",
    "7. Finally Snowball Stemming the word (it was obsereved to be better than Porter Stemming)<br>\n",
    "\n",
    "After which we collect the words used to describe positive and negative reviews"
   ]
  },
  {
   "cell_type": "code",
   "execution_count": 14,
   "metadata": {},
   "outputs": [
    {
     "name": "stdout",
     "output_type": "stream",
     "text": [
      "2\n",
      "Why is this $[...] when the same product is available for $[...] here?<br />http://www.amazon.com/VICTOR-FLY-MAGNET-BAIT-REFILL/dp/B00004RBDY<br /><br />The Victor M380 and M502 traps are unreal, of course -- total fly genocide. Pretty stinky, but only right nearby.\n"
     ]
    }
   ],
   "source": [
    "#Natural-Text-pre-processing \n",
    "#finding the which sentence contains html tags\n",
    "\n",
    "import re\n",
    "\n",
    "i=0;\n",
    "for sent in final['Text'].values:\n",
    "    if (len(re.findall('<.*?>', sent))):\n",
    "        print(i)\n",
    "        print(sent)\n",
    "        break;\n",
    "    i += 1;\n"
   ]
  },
  {
   "cell_type": "code",
   "execution_count": 15,
   "metadata": {},
   "outputs": [
    {
     "name": "stdout",
     "output_type": "stream",
     "text": [
      "[nltk_data] Downloading package stopwords to\n",
      "[nltk_data]     C:\\Users\\SatyaKrishna\\AppData\\Roaming\\nltk_data...\n",
      "[nltk_data]   Package stopwords is already up-to-date!\n"
     ]
    },
    {
     "data": {
      "text/plain": [
       "'delici'"
      ]
     },
     "execution_count": 15,
     "metadata": {},
     "output_type": "execute_result"
    }
   ],
   "source": [
    "import string\n",
    "from nltk.corpus import stopwords\n",
    "from nltk.stem import PorterStemmer\n",
    "from nltk.stem.wordnet import WordNetLemmatizer\n",
    "from nltk.stem.porter import PorterStemmer\n",
    "nltk.download('stopwords')\n",
    "\n",
    "def cleanhtml(sentence): #function to clean the word of any html-tags\n",
    "    cleanr = re.compile('<.*?>')\n",
    "    cleantext = re.sub(cleanr, ' ', sentence)\n",
    "    return cleantext\n",
    "\n",
    "def cleanpunc(sentence): #function to clean the word of any punctuation or special characters\n",
    "    cleaned = re.sub(r'[?|!|\\'|\"|#]',r'',sentence)\n",
    "    cleaned = re.sub(r'[.|,|)|(|\\|/]',r' ',cleaned)\n",
    "    return  cleaned\n",
    "\n",
    "stop = set(stopwords.words('english')) #set of stopwords\n",
    "\n",
    "sno = nltk.stem.SnowballStemmer('english') #initialising the snowball stemmer\n",
    "sno.stem('delicious')\n",
    "#stop\n"
   ]
  },
  {
   "cell_type": "code",
   "execution_count": 16,
   "metadata": {},
   "outputs": [
    {
     "name": "stderr",
     "output_type": "stream",
     "text": [
      "100%|███████████████████████████████████| 46071/46071 [01:09<00:00, 665.58it/s]\n"
     ]
    },
    {
     "name": "stdout",
     "output_type": "stream",
     "text": [
      "filtered sentences are stored successfully\n"
     ]
    }
   ],
   "source": [
    "import string\n",
    "from nltk.corpus import stopwords\n",
    "from nltk.stem import PorterStemmer\n",
    "from nltk.stem.wordnet import WordNetLemmatizer\n",
    "\n",
    "from tqdm import tqdm\n",
    "import os\n",
    "\n",
    "final_string=[] #creating a empty list for storing final preprocessed data\n",
    "all_positive_words=[] # store words from +ve reviews here\n",
    "all_negative_words=[] # store words from -ve reviews here.\n",
    "for i, sent in enumerate(tqdm(final['Text'].values)):\n",
    "    filtered_sentence=[] #empty list for store after remove html and punc's and alfanumeric and words >2 and not in stop and converted to lowercase \n",
    "    sent=cleanhtml(sent) # remove HTMl tags\n",
    "    for w in sent.split():\n",
    "        # we have used cleanpunc(w).split(), one more split function here because consider w=\"abc.def\", cleanpunc(w) will return \"abc def\"\n",
    "        # if we dont use .split() function then we will be considring \"abc def\" as a single word, but if you use .split() function we will get \"abc\", \"def\"\n",
    "        for cleaned_words in cleanpunc(w).split():\n",
    "            if((cleaned_words.isalpha()) & (len(cleaned_words)>2)):    \n",
    "                if(cleaned_words.lower() not in stop):\n",
    "                    s=(sno.stem(cleaned_words.lower())).encode('utf8')\n",
    "                    filtered_sentence.append(s)# above steps are stored here \n",
    "                    if (final['Score'].values)[i] == 1: \n",
    "                        all_positive_words.append(s) #list of all words used to describe positive reviews stored with above \n",
    "                    if(final['Score'].values)[i] == 0:\n",
    "                        all_negative_words.append(s) #list of all words used to describe negative reviews reviews stored with above \n",
    "    str1 = b\" \".join(filtered_sentence) #final string of cleaned words stored in str1   \n",
    "    final_string.append(str1) #here str1 stored in final_string\n",
    "print(\"filtered sentences are stored successfully\")\n"
   ]
  },
  {
   "cell_type": "code",
   "execution_count": 17,
   "metadata": {},
   "outputs": [
    {
     "name": "stdout",
     "output_type": "stream",
     "text": [
      "cleaned data is added successfully in cleaned text feature\n"
     ]
    },
    {
     "data": {
      "text/html": [
       "<div>\n",
       "<style scoped>\n",
       "    .dataframe tbody tr th:only-of-type {\n",
       "        vertical-align: middle;\n",
       "    }\n",
       "\n",
       "    .dataframe tbody tr th {\n",
       "        vertical-align: top;\n",
       "    }\n",
       "\n",
       "    .dataframe thead th {\n",
       "        text-align: right;\n",
       "    }\n",
       "</style>\n",
       "<table border=\"1\" class=\"dataframe\">\n",
       "  <thead>\n",
       "    <tr style=\"text-align: right;\">\n",
       "      <th></th>\n",
       "      <th>Id</th>\n",
       "      <th>ProductId</th>\n",
       "      <th>UserId</th>\n",
       "      <th>ProfileName</th>\n",
       "      <th>HelpfulnessNumerator</th>\n",
       "      <th>HelpfulnessDenominator</th>\n",
       "      <th>Score</th>\n",
       "      <th>Time</th>\n",
       "      <th>Summary</th>\n",
       "      <th>Text</th>\n",
       "      <th>CleanedText</th>\n",
       "    </tr>\n",
       "  </thead>\n",
       "  <tbody>\n",
       "    <tr>\n",
       "      <th>22620</th>\n",
       "      <td>24750</td>\n",
       "      <td>2734888454</td>\n",
       "      <td>A13ISQV0U9GZIC</td>\n",
       "      <td>Sandikaye</td>\n",
       "      <td>1</td>\n",
       "      <td>1</td>\n",
       "      <td>0</td>\n",
       "      <td>1192060800</td>\n",
       "      <td>made in china</td>\n",
       "      <td>My dogs loves this chicken but its a product f...</td>\n",
       "      <td>dog love chicken product china wont buy anymor...</td>\n",
       "    </tr>\n",
       "    <tr>\n",
       "      <th>22621</th>\n",
       "      <td>24751</td>\n",
       "      <td>2734888454</td>\n",
       "      <td>A1C298ITT645B6</td>\n",
       "      <td>Hugh G. Pritchard</td>\n",
       "      <td>0</td>\n",
       "      <td>0</td>\n",
       "      <td>1</td>\n",
       "      <td>1195948800</td>\n",
       "      <td>Dog Lover Delites</td>\n",
       "      <td>Our dogs just love them.  I saw them in a pet ...</td>\n",
       "      <td>dog love saw pet store tag attach regard made ...</td>\n",
       "    </tr>\n",
       "    <tr>\n",
       "      <th>2546</th>\n",
       "      <td>2774</td>\n",
       "      <td>B00002NCJC</td>\n",
       "      <td>A196AJHU9EASJN</td>\n",
       "      <td>Alex Chaffee</td>\n",
       "      <td>0</td>\n",
       "      <td>0</td>\n",
       "      <td>1</td>\n",
       "      <td>1282953600</td>\n",
       "      <td>thirty bucks?</td>\n",
       "      <td>Why is this $[...] when the same product is av...</td>\n",
       "      <td>product avail www amazon com victor trap unrea...</td>\n",
       "    </tr>\n",
       "  </tbody>\n",
       "</table>\n",
       "</div>"
      ],
      "text/plain": [
       "          Id   ProductId          UserId        ProfileName  \\\n",
       "22620  24750  2734888454  A13ISQV0U9GZIC          Sandikaye   \n",
       "22621  24751  2734888454  A1C298ITT645B6  Hugh G. Pritchard   \n",
       "2546    2774  B00002NCJC  A196AJHU9EASJN       Alex Chaffee   \n",
       "\n",
       "       HelpfulnessNumerator  HelpfulnessDenominator  Score        Time  \\\n",
       "22620                     1                       1      0  1192060800   \n",
       "22621                     0                       0      1  1195948800   \n",
       "2546                      0                       0      1  1282953600   \n",
       "\n",
       "                 Summary                                               Text  \\\n",
       "22620      made in china  My dogs loves this chicken but its a product f...   \n",
       "22621  Dog Lover Delites  Our dogs just love them.  I saw them in a pet ...   \n",
       "2546       thirty bucks?  Why is this $[...] when the same product is av...   \n",
       "\n",
       "                                             CleanedText  \n",
       "22620  dog love chicken product china wont buy anymor...  \n",
       "22621  dog love saw pet store tag attach regard made ...  \n",
       "2546   product avail www amazon com victor trap unrea...  "
      ]
     },
     "execution_count": 17,
     "metadata": {},
     "output_type": "execute_result"
    }
   ],
   "source": [
    "final['CleanedText']=final_string #adding a column of CleanedText which displays the data after pre-processing of the review \n",
    "final['CleanedText']=final['CleanedText'].str.decode(\"utf-8\")\n",
    "print(\"cleaned data is added successfully in cleaned text feature\")\n",
    "#final = final.drop(columns = \"Text\")\n",
    "final.shape\n",
    "final.head(3)\n",
    "#final.CleanedText.values[:50]"
   ]
  },
  {
   "cell_type": "code",
   "execution_count": 18,
   "metadata": {},
   "outputs": [
    {
     "data": {
      "text/plain": [
       "'fed golden retriev hate wouldnt eat gave terribl diarrhea buy also super expens'"
      ]
     },
     "execution_count": 18,
     "metadata": {},
     "output_type": "execute_result"
    }
   ],
   "source": [
    "#Random reviews after text pre-processing \n",
    "final.CleanedText[20]\n",
    "final.CleanedText[500]\n",
    "final.CleanedText[90]"
   ]
  },
  {
   "cell_type": "code",
   "execution_count": 19,
   "metadata": {},
   "outputs": [
    {
     "name": "stdout",
     "output_type": "stream",
     "text": [
      "Most Common Positive Words in review :  [(b'like', 17833), (b'tast', 15923), (b'good', 14331), (b'love', 14032), (b'flavor', 13822), (b'great', 13105), (b'one', 12248), (b'use', 11814), (b'tri', 11000), (b'product', 10803), (b'tea', 10602), (b'coffe', 10091), (b'get', 9179), (b'make', 9097), (b'food', 9089), (b'dog', 7456), (b'would', 7140), (b'time', 6847), (b'eat', 6785), (b'buy', 6753)]\n",
      "----------------------------------------------------------------------------------------------------\n",
      "Most Common Negative Words in review:  [(b'tast', 4739), (b'like', 4518), (b'product', 3596), (b'one', 2734), (b'flavor', 2640), (b'would', 2480), (b'tri', 2447), (b'use', 2018), (b'good', 1999), (b'get', 1922), (b'buy', 1821), (b'food', 1815), (b'coffe', 1795), (b'tea', 1676), (b'dog', 1662), (b'order', 1636), (b'dont', 1614), (b'even', 1562), (b'eat', 1428), (b'box', 1401)]\n"
     ]
    }
   ],
   "source": [
    "#all the filtered sentences and positive and negative reviews with bytes foramt for faster processing \n",
    "# are stored in final_string\n",
    "#Now most common positive words and negitive words\n",
    "\n",
    "freq_dist_positive=nltk.FreqDist(all_positive_words)\n",
    "freq_dist_negative=nltk.FreqDist(all_negative_words)\n",
    "print(\"Most Common Positive Words in review : \",freq_dist_positive.most_common(20))\n",
    "print('-' *100)\n",
    "print(\"Most Common Negative Words in review: \",freq_dist_negative.most_common(20))"
   ]
  },
  {
   "cell_type": "markdown",
   "metadata": {},
   "source": [
    "<h2><font color='red'>[3.2] Preprocessing Review Summary</font></h2>"
   ]
  },
  {
   "cell_type": "code",
   "execution_count": 20,
   "metadata": {},
   "outputs": [
    {
     "name": "stdout",
     "output_type": "stream",
     "text": [
      "There is no html tags\n",
      "--------------------------------------------------\n"
     ]
    },
    {
     "data": {
      "text/plain": [
       "22620                                        made in china\n",
       "22621                                    Dog Lover Delites\n",
       "2546                                         thirty bucks?\n",
       "2547                                          Flies Begone\n",
       "1145                        WOW Make your own 'slickers' !\n",
       "1146                                         Great Product\n",
       "8696                  The Best Cleansing Tea I've Ever Had\n",
       "8695                               Good, effective product\n",
       "8694                         Best herbal tea for digestion\n",
       "48736    They Secretly Switched The Coffee At My Favori...\n",
       "Name: Summary, dtype: object"
      ]
     },
     "execution_count": 20,
     "metadata": {},
     "output_type": "execute_result"
    }
   ],
   "source": [
    "## Similartly you can do preprocessing for review summary also.\n",
    "#finding html tags in summary text \n",
    "\n",
    "j=0;\n",
    "for summary in final['Summary'].values:\n",
    "    if (len(re.findall('<.*?>', summary))):\n",
    "        print(j)\n",
    "        print(summary)\n",
    "    else:\n",
    "        print(\"There is no html tags\")\n",
    "        print('-'*50)\n",
    "        break;\n",
    "    j += 1;\n",
    "final[\"Summary\"].head(10)"
   ]
  },
  {
   "cell_type": "code",
   "execution_count": 21,
   "metadata": {},
   "outputs": [
    {
     "data": {
      "text/plain": [
       "'wow'"
      ]
     },
     "execution_count": 21,
     "metadata": {},
     "output_type": "execute_result"
    }
   ],
   "source": [
    "#removing if any html tags and punctuations in summary feature\n",
    "#observed there is no html tags in summary attribute \n",
    "\n",
    "#def cleanhtml(s_sentence): #function to clean the word of any html-tags\n",
    "#    s_cleanr = re.compile('<.*?>')\n",
    "#    s_cleantext = re.sub(s_cleanr, ' ', s_sentence)\n",
    "#    return s_cleantext\n",
    "\n",
    "def cleanpunc(s_sentence): #function to clean the word of any punctuation or special characters\n",
    "    s_cleaned = re.sub(r'[?|!|\\'|\"|#]',r'',s_sentence)\n",
    "    s_cleaned = re.sub(r'[.|,|)|(|\\|/]',r' ',s_cleaned)\n",
    "    return  s_cleaned\n",
    "\n",
    "s_stop = set(stopwords.words('english')) #set of stopwords\n",
    "\n",
    "s_sno = nltk.stem.SnowballStemmer('english') #initialising the snowball stemmer\n",
    "s_sno.stem('wow')"
   ]
  },
  {
   "cell_type": "code",
   "execution_count": 22,
   "metadata": {},
   "outputs": [
    {
     "name": "stderr",
     "output_type": "stream",
     "text": [
      "100%|██████████████████████████████████| 46071/46071 [00:04<00:00, 9263.50it/s]\n"
     ]
    },
    {
     "name": "stdout",
     "output_type": "stream",
     "text": [
      "filtered summary are stored successfully in summary_final_string\n"
     ]
    },
    {
     "data": {
      "text/plain": [
       "46071"
      ]
     },
     "execution_count": 22,
     "metadata": {},
     "output_type": "execute_result"
    }
   ],
   "source": [
    "summary_final_string=[] #creating a empty list for storing final preprocessed data\n",
    "summary_all_positive_words=[] # store words from +ve summary here\n",
    "summary_all_negative_words=[] # store words from -ve summary here.\n",
    "for j, summary_sent in enumerate(tqdm(final['Summary'].values)):\n",
    "    summary_filtered_sentence=[] #empty list for store after remove  punc's and alphanumeric and words >2 and not in stop and converted to lowercase \n",
    "    #summary_sent=cleanhtml(summary_sent) # remove HTMl tags\n",
    "    for s_w in summary_sent.split():\n",
    "        for s_cleaned_words in cleanpunc(s_w).split():\n",
    "            if((s_cleaned_words.isalpha()) & (len(s_cleaned_words)>2)):    \n",
    "                if(s_cleaned_words.lower() not in s_stop):\n",
    "                    s_s=(s_sno.stem(s_cleaned_words.lower())).encode('utf8')\n",
    "                    summary_filtered_sentence.append(s_s)# above steps are stored here \n",
    "                    if (final['Score'].values)[j] == 1: \n",
    "                        summary_all_positive_words.append(s_s) #list of all words used to describe positive summary stored with above \n",
    "                    if(final['Score'].values)[j] == 0:\n",
    "                        summary_all_negative_words.append(s_s) #list of all words used to describe negative summary reviews stored with above \n",
    "    s_str1 = b\" \".join(summary_filtered_sentence) #final string of cleaned words stored in s_str1   \n",
    "    summary_final_string.append(s_str1) #here s_str1 stored in summary_final_string\n",
    "print(\"filtered summary are stored successfully in summary_final_string\")\n",
    "len(summary_final_string)"
   ]
  },
  {
   "cell_type": "code",
   "execution_count": 23,
   "metadata": {},
   "outputs": [
    {
     "name": "stdout",
     "output_type": "stream",
     "text": [
      "Most Common Positive Words in summary :  [(b'great', 5948), (b'good', 3834), (b'love', 3104), (b'best', 2801), (b'tea', 1785), (b'tast', 1762), (b'dog', 1687), (b'coffe', 1604), (b'delici', 1585), (b'product', 1412), (b'excel', 1135), (b'flavor', 1075), (b'yummi', 921), (b'tasti', 881), (b'food', 878), (b'like', 833), (b'favorit', 813), (b'price', 809), (b'treat', 792), (b'ever', 733)]\n",
      "----------------------------------------------------------------------------------------------------\n",
      "Most Common Negative Words in summary :  [(b'tast', 608), (b'good', 368), (b'like', 360), (b'flavor', 240), (b'disappoint', 235), (b'bad', 233), (b'product', 226), (b'dog', 222), (b'dont', 188), (b'great', 169), (b'coffe', 167), (b'buy', 159), (b'price', 136), (b'tea', 127), (b'aw', 125), (b'horribl', 122), (b'terribl', 115), (b'made', 114), (b'food', 110), (b'yuck', 109)]\n"
     ]
    }
   ],
   "source": [
    "s_freq_dist_positive=nltk.FreqDist(summary_all_positive_words)\n",
    "s_freq_dist_negative=nltk.FreqDist(summary_all_negative_words)\n",
    "print(\"Most Common Positive Words in summary : \",s_freq_dist_positive.most_common(20))\n",
    "print('-' *100)\n",
    "print(\"Most Common Negative Words in summary : \",s_freq_dist_negative.most_common(20))"
   ]
  },
  {
   "cell_type": "code",
   "execution_count": 24,
   "metadata": {},
   "outputs": [
    {
     "data": {
      "text/html": [
       "<div>\n",
       "<style scoped>\n",
       "    .dataframe tbody tr th:only-of-type {\n",
       "        vertical-align: middle;\n",
       "    }\n",
       "\n",
       "    .dataframe tbody tr th {\n",
       "        vertical-align: top;\n",
       "    }\n",
       "\n",
       "    .dataframe thead th {\n",
       "        text-align: right;\n",
       "    }\n",
       "</style>\n",
       "<table border=\"1\" class=\"dataframe\">\n",
       "  <thead>\n",
       "    <tr style=\"text-align: right;\">\n",
       "      <th></th>\n",
       "      <th>Id</th>\n",
       "      <th>ProductId</th>\n",
       "      <th>UserId</th>\n",
       "      <th>ProfileName</th>\n",
       "      <th>HelpfulnessNumerator</th>\n",
       "      <th>HelpfulnessDenominator</th>\n",
       "      <th>Score</th>\n",
       "      <th>Time</th>\n",
       "      <th>Summary</th>\n",
       "      <th>Text</th>\n",
       "      <th>CleanedText</th>\n",
       "      <th>Cleanedsummary</th>\n",
       "    </tr>\n",
       "  </thead>\n",
       "  <tbody>\n",
       "    <tr>\n",
       "      <th>22620</th>\n",
       "      <td>24750</td>\n",
       "      <td>2734888454</td>\n",
       "      <td>A13ISQV0U9GZIC</td>\n",
       "      <td>Sandikaye</td>\n",
       "      <td>1</td>\n",
       "      <td>1</td>\n",
       "      <td>0</td>\n",
       "      <td>1192060800</td>\n",
       "      <td>made in china</td>\n",
       "      <td>My dogs loves this chicken but its a product f...</td>\n",
       "      <td>dog love chicken product china wont buy anymor...</td>\n",
       "      <td>b'made china'</td>\n",
       "    </tr>\n",
       "  </tbody>\n",
       "</table>\n",
       "</div>"
      ],
      "text/plain": [
       "          Id   ProductId          UserId ProfileName  HelpfulnessNumerator  \\\n",
       "22620  24750  2734888454  A13ISQV0U9GZIC   Sandikaye                     1   \n",
       "\n",
       "       HelpfulnessDenominator  Score        Time        Summary  \\\n",
       "22620                       1      0  1192060800  made in china   \n",
       "\n",
       "                                                    Text  \\\n",
       "22620  My dogs loves this chicken but its a product f...   \n",
       "\n",
       "                                             CleanedText Cleanedsummary  \n",
       "22620  dog love chicken product china wont buy anymor...  b'made china'  "
      ]
     },
     "execution_count": 24,
     "metadata": {},
     "output_type": "execute_result"
    }
   ],
   "source": [
    "final['Cleanedsummary']=summary_final_string\n",
    "final[0:1]"
   ]
  },
  {
   "cell_type": "code",
   "execution_count": 25,
   "metadata": {},
   "outputs": [
    {
     "name": "stdout",
     "output_type": "stream",
     "text": [
      "Data splitted sucessfully in to train ,test,cv\n"
     ]
    }
   ],
   "source": [
    "#splitting the cleaned text and score to train, cv,test\n",
    "from sklearn import model_selection\n",
    "from sklearn.model_selection import train_test_split\n",
    "\n",
    "#here we splitting the whole data to train test and cv\n",
    "x_bow=final['CleanedText'] #taking whole data\n",
    "y_bow=final['Score']\n",
    "#splitted the data in to train and test\n",
    "x_bow_train,x_bow_test_data,y_bow_train,y_bow_test_data = train_test_split(x_bow, y_bow, test_size=0.3, random_state=0)\n",
    "#splitted the above train data into 2nd train and cross validation \n",
    "x_bow_train_data,x_bow_cv_data,y_bow_train_data,y_bow_cv_data = train_test_split(x_bow_train, y_bow_train, test_size=0.3, random_state=0)\n",
    "\n",
    "print(\"Data splitted sucessfully in to train ,test,cv\")"
   ]
  },
  {
   "cell_type": "markdown",
   "metadata": {},
   "source": [
    "# [4] Featurization"
   ]
  },
  {
   "cell_type": "markdown",
   "metadata": {},
   "source": [
    "## [4.1] BAG OF WORDS"
   ]
  },
  {
   "cell_type": "code",
   "execution_count": 26,
   "metadata": {},
   "outputs": [
    {
     "name": "stdout",
     "output_type": "stream",
     "text": [
      "the type of count vectorizer  <class 'scipy.sparse.csr.csr_matrix'>\n",
      "the shape of out text BOW vectorizer  (22574, 18087)\n",
      "the number of unique words  18087\n",
      "--------------------------------------------------\n",
      "here below  we converting scipy to dense for knn \n",
      "--------------------------------------------------\n",
      "(22574, 18087) (22574,)\n",
      "(13822, 18087) (13822,)\n",
      "(9675, 18087) (9675,)\n",
      "Bow splitted data\n",
      " final_bow_train_data,y_bow_train_data\n",
      " final_bow_test_data,y_bow_test_data\n",
      " final_bow_cv_data,y_bow_cv_data\n",
      "\n"
     ]
    }
   ],
   "source": [
    "#APPLYING_BOW ON TRAIN2 DATA ONLY \n",
    "\n",
    "from sklearn.feature_extraction.text import CountVectorizer\n",
    "from sklearn.model_selection import train_test_split\n",
    "\n",
    "count_vect = CountVectorizer() #in scikit-learn\n",
    "final_counts_bow_train = count_vect.fit_transform(x_bow_train_data.values)\n",
    "final_bow_train_data=final_counts_bow_train\n",
    "#transform  on testdata\n",
    "final_bow_test_data = count_vect.transform(x_bow_test_data)\n",
    "#transform on cv data \n",
    "final_bow_cv_data = count_vect.transform(x_bow_cv_data)\n",
    "\n",
    "print(\"the type of count vectorizer \",type(final_bow_train_data))\n",
    "print(\"the shape of out text BOW vectorizer \",final_bow_train_data.get_shape())\n",
    "print(\"the number of unique words \", final_bow_train_data.get_shape()[1])\n",
    "#dense_bow=final_bow_train_data.todense()\n",
    "print('-' * 50 )\n",
    "print(\"here below  we converting scipy to dense for knn \")\n",
    "print('-' * 50 )\n",
    "#print(\"the type of count vectorizer \",type(dense_bow))\n",
    "\n",
    "print(final_bow_train_data.shape,y_bow_train_data.shape)\n",
    "print(final_bow_test_data.shape,y_bow_test_data.shape)\n",
    "print(final_bow_cv_data.shape,y_bow_cv_data.shape)\n",
    "print(\"Bow splitted data\\n\", \"final_bow_train_data,y_bow_train_data\\n\",\"final_bow_test_data,y_bow_test_data\\n\",\"final_bow_cv_data,y_bow_cv_data\\n\")"
   ]
  },
  {
   "cell_type": "code",
   "execution_count": null,
   "metadata": {},
   "outputs": [],
   "source": []
  },
  {
   "cell_type": "markdown",
   "metadata": {},
   "source": [
    "## [4.2] Bi-Grams and n-Grams."
   ]
  },
  {
   "cell_type": "code",
   "execution_count": 27,
   "metadata": {},
   "outputs": [
    {
     "name": "stdout",
     "output_type": "stream",
     "text": [
      "the type of count vectorizer  <class 'scipy.sparse.csr.csr_matrix'>\n",
      "the shape of out text BOW vectorizer  (22574, 425298)\n",
      "the number of unique words including both unigrams and bigrams  425298\n"
     ]
    }
   ],
   "source": [
    "#UNI_GRAMS-BI_GRAMS-TRI_GRAMS\n",
    "count_vect = CountVectorizer(ngram_range=(1,2) ) #in scikit-learn range will choose how many grams we want here we choose 1 and 2 means uni and bi and n it will be tri and so..onnn \n",
    "final_bigram_counts = count_vect.fit_transform(x_bow_train_data.values)\n",
    "print(\"the type of count vectorizer \",type(final_bigram_counts))\n",
    "print(\"the shape of out text BOW vectorizer \",final_bigram_counts.get_shape())\n",
    "print(\"the number of unique words including both unigrams and bigrams \", final_bigram_counts.get_shape()[1])\n",
    "#bi_gram=final_bigram_counts.todense()\n",
    "#print('-' * 50 )\n",
    "#print(\"here below  we converting scipy to dense  \")\n",
    "#print('-' * 50 )\n",
    "#print(\"the type of count vectorizer \",type(bi_gram))"
   ]
  },
  {
   "cell_type": "markdown",
   "metadata": {},
   "source": [
    "## [4.3] TF-IDF"
   ]
  },
  {
   "cell_type": "code",
   "execution_count": 28,
   "metadata": {},
   "outputs": [
    {
     "name": "stdout",
     "output_type": "stream",
     "text": [
      "Data splitted sucessfully in to train ,test,cv\n",
      "the type of count vectorizer  <class 'scipy.sparse.csr.csr_matrix'>\n",
      "the shape of out text TFIDF vectorizer  (22574, 425298)\n",
      "the number of unique words including both unigrams and bigrams  425298\n"
     ]
    }
   ],
   "source": [
    "#TF-IDF_Vectorizer\n",
    "x_tfidf=final['CleanedText'] #taking whole data\n",
    "y_tfidf=final['Score']\n",
    "#splitted the data in to train and test\n",
    "x_tfidf_train,x_tfidf_test_data,y_tfidf_train,y_tfidf_test_data = train_test_split(x_tfidf, y_tfidf, test_size=0.3, random_state=0)\n",
    "#splitted the above train data into 2nd train and cross validation \n",
    "x_tfidf_train_data,x_tfidf_cv_data,y_tfidf_train_data,y_tfidf_cv_data = train_test_split(x_tfidf_train, y_tfidf_train, test_size=0.3, random_state=0)\n",
    "\n",
    "print(\"Data splitted sucessfully in to train ,test,cv\")\n",
    "\n",
    "from sklearn.feature_extraction.text import TfidfTransformer\n",
    "from sklearn.feature_extraction.text import TfidfVectorizer\n",
    "\n",
    "tf_idf_vect = TfidfVectorizer(ngram_range=(1,2))\n",
    "final_tfidf_train_data = tf_idf_vect.fit_transform(x_tfidf_train_data.values)\n",
    "final_tfidf_test_data = tf_idf_vect.transform(x_tfidf_test_data)\n",
    "final_tfidf_cv_data = tf_idf_vect.transform(x_tfidf_cv_data)\n",
    "print(\"the type of count vectorizer \",type(final_tfidf_train_data))\n",
    "print(\"the shape of out text TFIDF vectorizer \",final_tfidf_train_data.get_shape())\n",
    "print(\"the number of unique words including both unigrams and bigrams \", final_tfidf_train_data.get_shape()[1])\n",
    "#tfidf_dense=final_tfidf_train_data.todense()\n",
    "#print('-' * 50 )\n",
    "#print(\"here below  we converting scipy to dense \")\n",
    "#print('-' * 50 )\n",
    "#print(\"the type of count vectorizer \",type(tfidf_dense))\n"
   ]
  },
  {
   "cell_type": "markdown",
   "metadata": {},
   "source": [
    "## [4.4] Word2Vec"
   ]
  },
  {
   "cell_type": "code",
   "execution_count": 29,
   "metadata": {},
   "outputs": [
    {
     "name": "stdout",
     "output_type": "stream",
     "text": [
      "avgw2v Data splitted sucessfully in to train ,test,cv\n",
      "cleantext train data\n",
      "cleantext cv data\n",
      "cleantext test data\n"
     ]
    }
   ],
   "source": [
    "x_avgw2v=final['CleanedText'] #taking whole data\n",
    "y_avgw2v=final['Score']\n",
    "#splitted the data in to train and test\n",
    "x_avgw2v_train,x_avgw2v_test_data,y_avgw2v_train,y_avgw2v_test_data = train_test_split(x_avgw2v, y_avgw2v, test_size=0.3, random_state=0)\n",
    "#splitted the above train data into 2nd train and cross validation \n",
    "x_avgw2v_train_data,x_avgw2v_cv_data,y_avgw2v_train_data,y_avgw2v_cv_data = train_test_split(x_avgw2v_train, y_avgw2v_train, test_size=0.3, random_state=0)\n",
    "\n",
    "print(\"avgw2v Data splitted sucessfully in to train ,test,cv\")\n",
    "\n",
    "\n",
    "# Train your own Word2Vec model using your own text corpus\n",
    "from gensim.models import Word2Vec\n",
    "from gensim.models import KeyedVectors\n",
    "\n",
    "#train data\n",
    "cleantext_train= x_avgw2v_train_data # building own text corpus from w2v train data  \n",
    "i=0\n",
    "list_of_sentance_train=[]\n",
    "for sentance_train in cleantext_train:\n",
    "    list_of_sentance_train.append(sentance_train.split())\n",
    "print(\"cleantext train data\")\n",
    "    \n",
    "#cv data\n",
    "cleantext_cv= x_avgw2v_cv_data # building own text corpus from w2v cv data  \n",
    "j=0\n",
    "list_of_sentance_cv=[]\n",
    "for sentance_cv in cleantext_cv:\n",
    "    list_of_sentance_cv.append(sentance_cv.split())\n",
    "print(\"cleantext cv data\")\n",
    "\n",
    "\n",
    "#test data\n",
    "cleantext_test= x_avgw2v_test_data # building own text corpus from w2v test data  \n",
    "k=0\n",
    "list_of_sentance_test=[]\n",
    "for sentance_test in cleantext_test:\n",
    "    list_of_sentance_test.append(sentance_test.split())\n",
    "print(\"cleantext test data\")"
   ]
  },
  {
   "cell_type": "code",
   "execution_count": null,
   "metadata": {},
   "outputs": [],
   "source": []
  },
  {
   "cell_type": "code",
   "execution_count": 30,
   "metadata": {
    "scrolled": true
   },
   "outputs": [
    {
     "data": {
      "text/plain": [
       "[('prefer', 0.7352312803268433),\n",
       " ('weird', 0.705997884273529),\n",
       " ('appeal', 0.6820189952850342),\n",
       " ('strang', 0.673439085483551),\n",
       " ('bland', 0.6719467639923096),\n",
       " ('nasti', 0.6702864170074463),\n",
       " ('except', 0.6640591621398926),\n",
       " ('unlik', 0.6578013300895691),\n",
       " ('gross', 0.6554428339004517),\n",
       " ('bud', 0.6487538814544678)]"
      ]
     },
     "execution_count": 30,
     "metadata": {},
     "output_type": "execute_result"
    }
   ],
   "source": [
    "#WORD2VEC USING OWN CORPUS FROM ABOVE DATA \n",
    "# min_count = 5 considers only words that occured atleast 5 times\n",
    "w2v_train_model=Word2Vec(list_of_sentance_train,min_count=5,size=50, workers=4)\n",
    "#w2v_cv_model=Word2Vec(list_of_sentance_cv,min_count=5,size=50, workers=4)\n",
    "#w2v_test_model=Word2Vec(list_of_sentance_test,min_count=5,size=50, workers=4)\n",
    "\n",
    "w2v_train_model.wv.most_similar('like')  "
   ]
  },
  {
   "cell_type": "code",
   "execution_count": 31,
   "metadata": {},
   "outputs": [],
   "source": [
    "#w2v_cv_model.wv.most_similar('like')"
   ]
  },
  {
   "cell_type": "code",
   "execution_count": 32,
   "metadata": {},
   "outputs": [],
   "source": [
    "#w2v_test_model.wv.most_similar('like')"
   ]
  },
  {
   "cell_type": "code",
   "execution_count": 33,
   "metadata": {},
   "outputs": [
    {
     "name": "stdout",
     "output_type": "stream",
     "text": [
      "number of words that occured minimum 5 times  6401\n",
      "sample words from corpus   ['favorit', 'nut', 'snack', 'sunflow', 'absolut', 'almond', 'cashew', 'butteri', 'rich', 'realli', 'great', 'given', 'gift', 'everyon', 'follow', 'ask', 'buy', 'kiddo', 'stay', 'long', 'hour', 'school', 'ive', 'look', 'bring', 'arent', 'unhealthi', 'found', 'fig', 'newton', 'mini', 'pretti', 'excit', 'sinc', 'love', 'full', 'size', 'theyr', 'smaller', 'cours', 'much', 'less', 'fruit', 'fill', 'still', 'delici', 'individu', 'bag', 'quit', 'small']\n"
     ]
    }
   ],
   "source": [
    "w2v_words_train = list(w2v_train_model.wv.vocab)\n",
    "print(\"number of words that occured minimum 5 times \",len(w2v_words_train))\n",
    "print(\"sample words from corpus  \", w2v_words_train[0:50])"
   ]
  },
  {
   "cell_type": "code",
   "execution_count": 34,
   "metadata": {},
   "outputs": [],
   "source": [
    "#w2v_words_cv = list(w2v_cv_model.wv.vocab)\n",
    "#print(\"number of words that occured minimum 5 times \",len(w2v_words_cv))\n",
    "#print(\"sample words from corpus  \", w2v_words_cv[0:50])"
   ]
  },
  {
   "cell_type": "code",
   "execution_count": 35,
   "metadata": {},
   "outputs": [],
   "source": [
    "#w2v_words_test = list(w2v_test_model.wv.vocab)\n",
    "#print(\"number of words that occured minimum 5 times \",len(w2v_words_test))\n",
    "#print(\"sample words from corpus  \", w2v_words_test[0:50])"
   ]
  },
  {
   "cell_type": "markdown",
   "metadata": {},
   "source": [
    "## [4.4.1] Converting text into vectors using Avg W2V, TFIDF-W2V"
   ]
  },
  {
   "cell_type": "markdown",
   "metadata": {},
   "source": [
    "#### [4.4.1.1] Avg W2v"
   ]
  },
  {
   "cell_type": "code",
   "execution_count": 36,
   "metadata": {},
   "outputs": [
    {
     "name": "stderr",
     "output_type": "stream",
     "text": [
      "100%|███████████████████████████████████| 22574/22574 [00:23<00:00, 954.30it/s]\n"
     ]
    },
    {
     "name": "stdout",
     "output_type": "stream",
     "text": [
      "22574\n",
      "50\n",
      "<class 'list'>\n"
     ]
    }
   ],
   "source": [
    "# average Word2Vec train data \n",
    "# compute average word2vec_train for each review.\n",
    "sent_vectors_train = []; # the avg-w2v_train for each sentence/review is stored in this list\n",
    "final_avgw2v_train_data=sent_vectors_train\n",
    "for sent_train in tqdm(list_of_sentance_train): # for each train_review/sentence\n",
    "    sent_vec_train = np.zeros(50) # as word vectors are of zero length 50, you might need to change this to 300 if you use google's w2v\n",
    "    cnt_words_train =0; # num of words with a valid vector in the train_sentence/review\n",
    "    for word_train in sent_train: # for each word in a train_review/sentence\n",
    "        if word_train in w2v_words_train:\n",
    "            vec_train = w2v_train_model.wv[word_train]\n",
    "            sent_vec_train += vec_train\n",
    "            cnt_words_train += 1\n",
    "    if cnt_words_train != 0:\n",
    "        sent_vec_train /= cnt_words_train\n",
    "    sent_vectors_train.append(sent_vec_train)\n",
    "print(len(sent_vectors_train))\n",
    "print(len(sent_vectors_train[0]))\n",
    "print(type(sent_vectors_train))"
   ]
  },
  {
   "cell_type": "code",
   "execution_count": 37,
   "metadata": {},
   "outputs": [
    {
     "name": "stderr",
     "output_type": "stream",
     "text": [
      "100%|█████████████████████████████████████| 9675/9675 [00:10<00:00, 884.92it/s]\n"
     ]
    },
    {
     "name": "stdout",
     "output_type": "stream",
     "text": [
      "9675\n",
      "50\n",
      "<class 'list'>\n"
     ]
    }
   ],
   "source": [
    "# average Word2Vec cv data \n",
    "# compute average word2vec_train for each review.\n",
    "sent_vectors_cv = []; # the avg-cv for each sentence/review is stored in this list\n",
    "final_avgw2v_cv_data=sent_vectors_cv\n",
    "for sent_cv in tqdm(list_of_sentance_cv): # for each train_review/sentence\n",
    "    sent_vec_cv = np.zeros(50) # as word vectors are of zero length 50, you might need to change this to 300 if you use google's w2v\n",
    "    cnt_words_cv =0; # num of words with a valid vector in the train_sentence/review\n",
    "    for word_cv in sent_cv: # for each word in a train_review/sentence\n",
    "        if word_cv in w2v_words_train:\n",
    "            vec_cv = w2v_train_model.wv[word_cv]\n",
    "            sent_vec_cv += vec_cv\n",
    "            cnt_words_cv += 1\n",
    "    if cnt_words_cv != 0:\n",
    "        sent_vec_cv /= cnt_words_cv\n",
    "    sent_vectors_cv.append(sent_vec_cv)\n",
    "print(len(sent_vectors_cv))\n",
    "print(len(sent_vectors_cv[0]))\n",
    "print(type(sent_vectors_cv))"
   ]
  },
  {
   "cell_type": "code",
   "execution_count": 38,
   "metadata": {},
   "outputs": [
    {
     "name": "stderr",
     "output_type": "stream",
     "text": [
      "100%|███████████████████████████████████| 13822/13822 [00:14<00:00, 945.19it/s]\n"
     ]
    },
    {
     "name": "stdout",
     "output_type": "stream",
     "text": [
      "13822\n",
      "50\n",
      "<class 'list'>\n"
     ]
    }
   ],
   "source": [
    "# average Word2Vec test data \n",
    "# compute average word2vec_train for each review.\n",
    "sent_vectors_test = []; # the avg-w2v_train for each sentence/review is stored in this list\n",
    "final_avgw2v_test_data=sent_vectors_test\n",
    "for sent_test in tqdm(list_of_sentance_test): # for each train_review/sentence\n",
    "    sent_vec_test = np.zeros(50) # as word vectors are of zero length 50, you might need to change this to 300 if you use google's w2v\n",
    "    cnt_words_test =0; # num of words with a valid vector in the train_sentence/review\n",
    "    for word_test in sent_test: # for each word in a train_review/sentence\n",
    "        if word_test in w2v_words_train:\n",
    "            vec_test = w2v_train_model.wv[word_test]\n",
    "            sent_vec_test += vec_test\n",
    "            cnt_words_test += 1\n",
    "    if cnt_words_test != 0:\n",
    "        sent_vec_test /= cnt_words_test\n",
    "    sent_vectors_test.append(sent_vec_test)\n",
    "print(len(sent_vectors_test))\n",
    "print(len(sent_vectors_test[0]))\n",
    "print(type(sent_vectors_test))"
   ]
  },
  {
   "cell_type": "markdown",
   "metadata": {},
   "source": [
    "#### [4.4.1.2] TFIDF weighted W2v"
   ]
  },
  {
   "cell_type": "code",
   "execution_count": 39,
   "metadata": {},
   "outputs": [
    {
     "name": "stdout",
     "output_type": "stream",
     "text": [
      "tfidfw2v Data splitted sucessfully in to train ,test,cv\n"
     ]
    }
   ],
   "source": [
    "x_tfidfw2v=final['CleanedText'] #taking whole data\n",
    "y_tfidfw2v=final['Score']\n",
    "#splitted the whole data in to train and test\n",
    "x_tfidfw2v_train,x_tfidfw2v_test_data,y_tfidfw2v_train,y_tfidfw2v_test_data = train_test_split(x_tfidfw2v, y_tfidfw2v, test_size=0.3, random_state=0)\n",
    "#splitted the above train data into 2nd train and cross validation \n",
    "x_tfidfw2v_train_data,x_tfidfw2v_cv_data,y_tfidfw2v_train_data,y_tfidfw2v_cv_data = train_test_split(x_tfidfw2v_train, y_tfidfw2v_train, test_size=0.3, random_state=0)\n",
    "\n",
    "print(\"tfidfw2v Data splitted sucessfully in to train ,test,cv\")"
   ]
  },
  {
   "cell_type": "code",
   "execution_count": null,
   "metadata": {},
   "outputs": [],
   "source": []
  },
  {
   "cell_type": "code",
   "execution_count": 40,
   "metadata": {
    "scrolled": true
   },
   "outputs": [
    {
     "name": "stderr",
     "output_type": "stream",
     "text": [
      "100%|███████████████████████████████████| 22574/22574 [03:19<00:00, 112.44it/s]\n"
     ]
    },
    {
     "name": "stdout",
     "output_type": "stream",
     "text": [
      "50\n",
      "22574\n",
      "<class 'list'>\n"
     ]
    }
   ],
   "source": [
    "#tfidf_traindata using  train model\n",
    "tfidfw2v_model_train = TfidfVectorizer()\n",
    "final_tfidfw2v_train=tfidfw2v_model_train.fit(x_tfidfw2v_train_data)\n",
    "dictionary_train = dict(zip(final_tfidfw2v_train.get_feature_names(), list(final_tfidfw2v_train.idf_)))\n",
    "\n",
    "# TF-IDF weighted Word2Vec\n",
    "tfidf_feat_train = final_tfidfw2v_train.get_feature_names() # tfidf words/col-names\n",
    "# final_tf_idf is the sparse matrix with row= sentence, col=word and cell_val = tfidf\n",
    "\n",
    "tfidf_sent_vectors_train = [];# the tfidf-w2v for each sentence/review is stored in this list\n",
    "final_tfidfw2v_train_data=tfidf_sent_vectors_train\n",
    "row=0;\n",
    "for sent_train in tqdm(list_of_sentance_train): # for each review/sentence \n",
    "    sent_vec_train = np.zeros(50) # as word vectors are of zero length\n",
    "    weight_sum_train =0; # num of words with a valid vector in the sentence/review\n",
    "    for word in sent_train: # for each word in a review/sentence\n",
    "        if word in w2v_words_train and word in tfidf_feat_train:\n",
    "            vec_train = w2v_train_model.wv[word]\n",
    "             #tf_idf = tf_idf_matrix[row, tfidf_feat.index(word)]\n",
    "            # to reduce the computation we are \n",
    "            # dictionary[word] = idf value of word in whole courpus\n",
    "            # sent.count(word) = tf valeus of word in this review\n",
    "            tf_idf_train = dictionary_train[word]*(sent_train.count(word)/len(sent_train))\n",
    "            sent_vec_train += (vec_train * tf_idf_train)\n",
    "            weight_sum_train += tf_idf_train\n",
    "    if weight_sum_train != 0:\n",
    "        sent_vec_train /= weight_sum_train\n",
    "    tfidf_sent_vectors_train.append(sent_vec_train)\n",
    "    row += 1\n",
    "print(len(sent_vec_train))\n",
    "print(len(tfidf_sent_vectors_train))  \n",
    "print(type(tfidf_sent_vectors_train))  "
   ]
  },
  {
   "cell_type": "code",
   "execution_count": 41,
   "metadata": {},
   "outputs": [
    {
     "name": "stderr",
     "output_type": "stream",
     "text": [
      "100%|██████████████████████████████████████| 9675/9675 [01:40<00:00, 96.18it/s]\n"
     ]
    },
    {
     "name": "stdout",
     "output_type": "stream",
     "text": [
      "50\n",
      "9675\n",
      "<class 'list'>\n"
     ]
    }
   ],
   "source": [
    "#tfidf_cv_data using  train model\n",
    "tfidfw2v_model_train = TfidfVectorizer()\n",
    "final_tfidfw2v_train=tfidfw2v_model_train.fit(x_tfidfw2v_train_data)\n",
    "dictionary_train = dict(zip(final_tfidfw2v_train.get_feature_names(), list(final_tfidfw2v_train.idf_)))\n",
    "\n",
    "# TF-IDF weighted Word2Vec\n",
    "tfidf_feat_cv = final_tfidfw2v_train.get_feature_names() # tfidf words/col-names\n",
    "# final_tf_idf is the sparse matrix with row= sentence, col=word and cell_val = tfidf\n",
    "\n",
    "tfidf_sent_vectors_cv = [];# the tfidf-w2v for each sentence/review is stored in this list\n",
    "final_tfidfw2v_cv_data=tfidf_sent_vectors_cv\n",
    "row=0;\n",
    "for sent_cv in tqdm(list_of_sentance_cv): # for each review/sentence \n",
    "    sent_vec_cv = np.zeros(50) # as word vectors are of zero length\n",
    "    weight_sum_cv =0; # num of words with a valid vector in the sentence/review\n",
    "    for word_cv in sent_cv: # for each word in a review/sentence\n",
    "        if word_cv in w2v_words_train and word_cv in tfidf_feat_cv:\n",
    "            vec_cv = w2v_train_model.wv[word_cv]\n",
    "             #tf_idf = tf_idf_matrix[row, tfidf_feat.index(word)]\n",
    "            # to reduce the computation we are \n",
    "            # dictionary[word] = idf value of word in whole courpus\n",
    "            # sent.count(word) = tf valeus of word in this review\n",
    "            tf_idf_cv = dictionary_train[word_cv]*(sent_cv.count(word_cv)/len(sent_cv))\n",
    "            sent_vec_cv += (vec_cv * tf_idf_cv)\n",
    "            weight_sum_cv += tf_idf_cv\n",
    "    if weight_sum_cv != 0:\n",
    "        sent_vec_cv /= weight_sum_cv\n",
    "    tfidf_sent_vectors_cv.append(sent_vec_cv)\n",
    "    row += 1\n",
    "print(len(sent_vec_cv))\n",
    "print(len(tfidf_sent_vectors_cv))  \n",
    "print(type(tfidf_sent_vectors_cv))  "
   ]
  },
  {
   "cell_type": "code",
   "execution_count": 42,
   "metadata": {},
   "outputs": [
    {
     "name": "stderr",
     "output_type": "stream",
     "text": [
      "100%|████████████████████████████████████| 13822/13822 [02:57<00:00, 77.84it/s]\n"
     ]
    },
    {
     "name": "stdout",
     "output_type": "stream",
     "text": [
      "50\n",
      "13822\n",
      "<class 'list'>\n"
     ]
    }
   ],
   "source": [
    "#tfidf_test_data using  train model\n",
    "tfidfw2v_model_train = TfidfVectorizer()\n",
    "final_tfidfw2v_train=tfidfw2v_model_train.fit(x_tfidfw2v_train_data)\n",
    "dictionary_train = dict(zip(final_tfidfw2v_train.get_feature_names(), list(final_tfidfw2v_train.idf_)))\n",
    "\n",
    "#tfidfw2v on test data \n",
    "tfidf_feat_test = final_tfidfw2v_train.get_feature_names() # tfidf words/col-names\n",
    "# final_tf_idf is the sparse matrix with row= sentence, col=word and cell_val = tfidf\n",
    "\n",
    "tfidf_sent_vectors_test = []; # the tfidf-w2v for each sentence/review is stored in this list\n",
    "final_tfidfw2v_test_data=tfidf_sent_vectors_test\n",
    "row=0;\n",
    "for sent_test in tqdm(list_of_sentance_test): # for each review/sentence \n",
    "    sent_vec_test = np.zeros(50) # as word vectors are of zero length\n",
    "    weight_sum_test =0; # num of words with a valid vector in the sentence/review\n",
    "    for word_test in sent_test: # for each word in a review/sentence\n",
    "        if word_test in w2v_words_train and word_test in tfidf_feat_test:\n",
    "            vec_test = w2v_train_model.wv[word_test]\n",
    "             #tf_idf = tf_idf_matrix[row, tfidf_feat.index(word)]\n",
    "            # to reduce the computation we are \n",
    "            # dictionary[word] = idf value of word in whole courpus\n",
    "            # sent.count(word) = tf valeus of word in this review\n",
    "            tf_idf_test = dictionary_train[word_test]*(sent_test.count(word_test)/len(sent_test))\n",
    "            sent_vec_test += (vec_test * tf_idf_test)\n",
    "            weight_sum_test += tf_idf_test\n",
    "    if weight_sum_test != 0:\n",
    "        sent_vec_test /= weight_sum_test\n",
    "    tfidf_sent_vectors_test.append(sent_vec_test)\n",
    "    row += 1\n",
    "print(len(sent_vec_test))\n",
    "print(len(tfidf_sent_vectors_test))  \n",
    "print(type(tfidf_sent_vectors_test))  "
   ]
  },
  {
   "cell_type": "markdown",
   "metadata": {},
   "source": [
    "# [5] Assignment 3: KNN"
   ]
  },
  {
   "cell_type": "markdown",
   "metadata": {},
   "source": [
    "<ol>\n",
    "    <li><strong>Apply Knn(brute force version) on these feature sets</strong>\n",
    "        <ul>\n",
    "            <li><font color='red'>SET 1:</font>Review text, preprocessed one converted into vectors using (BOW)</li>\n",
    "            <li><font color='red'>SET 2:</font>Review text, preprocessed one converted into vectors using (TFIDF)</li>\n",
    "            <li><font color='red'>SET 3:</font>Review text, preprocessed one converted into vectors using (AVG W2v)</li>\n",
    "            <li><font color='red'>SET 4:</font>Review text, preprocessed one converted into vectors using (TFIDF W2v)</li>\n",
    "        </ul>\n",
    "    </li>\n",
    "    <br>\n",
    "    <li><strong>Apply Knn(kd tree version) on these feature sets</strong>\n",
    "        <br><font color='red'>NOTE: </font>sklearn implementation of kd-tree accepts only dense matrices, you need to convert the sparse matrices of CountVectorizer/TfidfVectorizer into dense matices. You can convert sparse matrices to dense using .toarray() attribute. For more information please visit this <a href='https://docs.scipy.org/doc/scipy-0.18.1/reference/generated/scipy.sparse.csr_matrix.toarray.html'>link</a>\n",
    "        <ul>\n",
    "            <li><font color='red'>SET 5:</font>Review text, preprocessed one converted into vectors using (BOW) but with restriction on maximum features generated.\n",
    "            <pre>\n",
    "            count_vect = CountVectorizer(min_df=10, max_features=500) \n",
    "            count_vect.fit(preprocessed_reviews)\n",
    "            </pre>\n",
    "            </li>\n",
    "            <li><font color='red'>SET 6:</font>Review text, preprocessed one converted into vectors using (TFIDF) but with restriction on maximum features generated.\n",
    "            <pre>\n",
    "                tf_idf_vect = TfidfVectorizer(min_df=10, max_features=500)\n",
    "                tf_idf_vect.fit(preprocessed_reviews)\n",
    "            </pre>\n",
    "            </li>\n",
    "            <li><font color='red'>SET 3:</font>Review text, preprocessed one converted into vectors using (AVG W2v)</li>\n",
    "            <li><font color='red'>SET 4:</font>Review text, preprocessed one converted into vectors using (TFIDF W2v)</li>\n",
    "        </ul>\n",
    "    </li>\n",
    "    <br>\n",
    "    <li><strong>The hyper paramter tuning(find best K)</strong>\n",
    "        <ul>\n",
    "    <li>Find the best hyper parameter which will give the maximum <a href='https://www.appliedaicourse.com/course/applied-ai-course-online/lessons/receiver-operating-characteristic-curve-roc-curve-and-auc-1/'>AUC</a> value</li>\n",
    "    <li>Find the best hyper paramter using k-fold cross validation or simple cross validation data</li>\n",
    "    <li>Use gridsearch cv or randomsearch cv or you can also write your own for loops to do this task of hyperparameter tuning</li>\n",
    "        </ul>\n",
    "    </li>\n",
    "    <br>\n",
    "    <li>\n",
    "    <strong>Representation of results</strong>\n",
    "        <ul>\n",
    "    <li>You need to plot the performance of model both on train data and cross validation data for each hyper parameter, like shown in the figure\n",
    "    <img src='train_cv_auc.JPG' width=300px></li>\n",
    "    <li>Once after you found the best hyper parameter, you need to train your model with it, and find the AUC on test data and plot the ROC curve on both train and test.\n",
    "    <img src='train_test_auc.JPG' width=300px></li>\n",
    "    <li>Along with plotting ROC curve, you need to print the <a href='https://www.appliedaicourse.com/course/applied-ai-course-online/lessons/confusion-matrix-tpr-fpr-fnr-tnr-1/'>confusion matrix</a> with predicted and original labels of test data points\n",
    "    <img src='confusion_matrix.png' width=300px></li>\n",
    "        </ul>\n",
    "    </li>\n",
    "    <br>\n",
    "    <li><strong>Conclusion</strong>\n",
    "        <ul>\n",
    "    <li>You need to summarize the results at the end of the notebook, summarize it in the table format. To print out a table please refer to this prettytable library<a href='http://zetcode.com/python/prettytable/'> link</a> \n",
    "        <img src='summary.JPG' width=400px>\n",
    "    </li>\n",
    "        </ul>\n",
    "</ol>"
   ]
  },
  {
   "cell_type": "markdown",
   "metadata": {},
   "source": [
    "<h4><font color='red'>Note: Data Leakage</font></h4>\n",
    "\n",
    "1. There will be an issue of data-leakage if you vectorize the entire data and then split it into train/cv/test.\n",
    "2. To avoid the issue of data-leakag, make sure to split your data first and then vectorize it. \n",
    "3. While vectorizing your data, apply the method fit_transform() on you train data, and apply the method transform() on cv/test data.\n",
    "4. For more details please go through this <a href='https://soundcloud.com/applied-ai-course/leakage-bow-and-tfidf'>link.</a>"
   ]
  },
  {
   "cell_type": "markdown",
   "metadata": {},
   "source": [
    "## [5.1] Applying KNN brute force"
   ]
  },
  {
   "cell_type": "markdown",
   "metadata": {},
   "source": [
    "### [5.1.1] Applying KNN brute force on BOW,<font color='red'> SET 1</font>"
   ]
  },
  {
   "cell_type": "code",
   "execution_count": 43,
   "metadata": {},
   "outputs": [
    {
     "name": "stdout",
     "output_type": "stream",
     "text": [
      "Bow splitted data\n",
      " final_bow_train_data,y_bow_train_data\n",
      " final_bow_test_data,y_bow_test_data\n",
      " final_bow_cv_data,y_bow_cv_data\n",
      "\n",
      "[1, 9, 17, 25, 33, 41, 49, 57, 65, 73, 81, 89, 97]\n",
      "cv data\n",
      " 1    8075\n",
      "0    1600\n",
      "Name: Score, dtype: int64\n",
      "train data\n",
      " 1    18823\n",
      "0     3751\n",
      "Name: Score, dtype: int64\n",
      "test data\n",
      " 1    11581\n",
      "0     2241\n",
      "Name: Score, dtype: int64\n"
     ]
    }
   ],
   "source": [
    "print(\"Bow splitted data\\n\", \"final_bow_train_data,y_bow_train_data\\n\",\"final_bow_test_data,y_bow_test_data\\n\",\"final_bow_cv_data,y_bow_cv_data\\n\")\n",
    "listnu= list(range(1,100,8))\n",
    "print(listnu)\n",
    "print(\"cv data\\n\",y_bow_cv_data.value_counts())\n",
    "print(\"train data\\n\",y_bow_train_data.value_counts())\n",
    "print(\"test data\\n\",y_bow_test_data.value_counts())"
   ]
  },
  {
   "cell_type": "code",
   "execution_count": 44,
   "metadata": {},
   "outputs": [
    {
     "name": "stdout",
     "output_type": "stream",
     "text": [
      "k= 1 cv: 0.5872968266253871 train: 1.0\n",
      "k= 9 cv: 0.7115060758513931 train: 0.8687464921961061\n",
      "k= 17 cv: 0.7432191176470586 train: 0.8452193158981648\n",
      "k= 25 cv: 0.7560878482972136 train: 0.8365185105041957\n",
      "k= 33 cv: 0.7628345588235295 train: 0.8331837926150149\n",
      "k= 41 cv: 0.7752842879256966 train: 0.8306447186875652\n",
      "k= 49 cv: 0.7806054179566564 train: 0.8290223848362849\n",
      "k= 57 cv: 0.7834969040247677 train: 0.8281658812249936\n",
      "k= 65 cv: 0.7892736842105262 train: 0.82871483611383\n",
      "k= 73 cv: 0.7935981037151703 train: 0.8278455288899708\n",
      "k= 81 cv: 0.794989705882353 train: 0.826772617316039\n",
      "k= 89 cv: 0.7960210526315789 train: 0.825983481385254\n",
      "k= 97 cv: 0.7983856037151703 train: 0.8251397318150214\n"
     ]
    }
   ],
   "source": [
    "# Please write all the code with proper documentation\n",
    "#finding the best hypermeter with bow train and cv data \n",
    "#loading library's\n",
    "from sklearn.neighbors import KNeighborsClassifier\n",
    "from sklearn.metrics import accuracy_score\n",
    "from sklearn.model_selection import cross_val_score\n",
    "from collections import Counter\n",
    "from sklearn.metrics import accuracy_score\n",
    "import random\n",
    "from sklearn import metrics\n",
    "from sklearn.metrics import roc_auc_score\n",
    "\n",
    "#finding the best hyper parameter  using simple loop method \n",
    "# Reference ,code re-using from sample solution ipynb\n",
    "train_auc = []\n",
    "cv_auc = []\n",
    "K = list(range(1,100,8))\n",
    "for i in K:\n",
    "    neigh = KNeighborsClassifier(n_neighbors=i)\n",
    "    neigh.fit(final_bow_train_data, y_bow_train_data)\n",
    "    # roc_auc_score(y_true, y_score) the 2nd parameter should be probability estimates of the positive class\n",
    "    # not the predicted outputs\n",
    "    y_train_pred =  neigh.predict_proba(final_bow_train_data)[:,1]\n",
    "    y_cv_pred =  neigh.predict_proba(final_bow_cv_data)[:,1]\n",
    "    train_auc_score=roc_auc_score(y_bow_train_data,y_train_pred)\n",
    "    train_auc.append(train_auc_score)\n",
    "    cv_auc_score=roc_auc_score(y_bow_cv_data, y_cv_pred)\n",
    "    cv_auc.append(cv_auc_score)\n",
    "    print(\"k=\",i,\"cv:\",cv_auc_score,\"train:\",train_auc_score)"
   ]
  },
  {
   "cell_type": "code",
   "execution_count": 45,
   "metadata": {},
   "outputs": [
    {
     "data": {
      "image/png": "[encoded data removed]",
      "text/plain": [
       "<Figure size 432x288 with 1 Axes>"
      ]
     },
     "metadata": {},
     "output_type": "display_data"
    }
   ],
   "source": [
    "plt.plot(K, train_auc, label='Train AUC')\n",
    "plt.plot(K, cv_auc, label='CV AUC')\n",
    "plt.legend()\n",
    "plt.xlabel(\"K: hyperparameter\")\n",
    "plt.ylabel(\"AUC\")\n",
    "plt.title(\"AUC vs Hyperparameter\")\n",
    "plt.show()"
   ]
  },
  {
   "cell_type": "markdown",
   "metadata": {},
   "source": [
    "We got auc scores from cv data it seems 9 be the optimal k after 9 there is not much change in auc scores ,so here considering K=9 be the optimal k "
   ]
  },
  {
   "cell_type": "code",
   "execution_count": 46,
   "metadata": {
    "scrolled": true
   },
   "outputs": [
    {
     "data": {
      "image/png": "[encoded data removed]",
      "text/plain": [
       "<Figure size 432x288 with 1 Axes>"
      ]
     },
     "metadata": {},
     "output_type": "display_data"
    }
   ],
   "source": [
    "#applying  knn brute version on bow train  data and predicting with bow test data \n",
    "from sklearn.metrics import roc_curve, auc\n",
    "\n",
    "neigh = KNeighborsClassifier(n_neighbors=9,algorithm = 'brute')\n",
    "neigh.fit(final_bow_train_data, y_bow_train_data)\n",
    "\n",
    "\n",
    "bow_train_fpr, bow_train_tpr, bow_thresholds = roc_curve(y_bow_train_data, neigh.predict_proba(final_bow_train_data)[:,1])\n",
    "bow_test_fpr, bow_test_tpr, bow_thresholds = roc_curve(y_bow_test_data, neigh.predict_proba(final_bow_test_data)[:,1])\n",
    "\n",
    "plt.plot(bow_train_fpr, bow_train_tpr, label=\"train AUC =\"+str(auc(bow_train_fpr, bow_train_tpr)))\n",
    "plt.plot(bow_test_fpr, bow_test_tpr, label=\"test AUC =\"+str(auc(bow_test_fpr, bow_test_tpr)))\n",
    "plt.legend()\n",
    "plt.xlabel(\"K: hyperparameter\")\n",
    "plt.ylabel(\"AUC\")\n",
    "plt.title(\"ROC CURVES ON TRAIN AND TEST \")\n",
    "plt.show()"
   ]
  },
  {
   "cell_type": "code",
   "execution_count": 47,
   "metadata": {},
   "outputs": [
    {
     "name": "stdout",
     "output_type": "stream",
     "text": [
      "Test confusion matrix\n",
      "[[  160    94]\n",
      " [ 2081 11487]]\n"
     ]
    },
    {
     "data": {
      "image/png": "[encoded data removed]",
      "text/plain": [
       "<Figure size 432x288 with 2 Axes>"
      ]
     },
     "metadata": {},
     "output_type": "display_data"
    }
   ],
   "source": [
    "#Test data confusion matrix \n",
    "from sklearn.metrics import confusion_matrix\n",
    "print(\"Test confusion matrix\")\n",
    "cm_test = confusion_matrix(neigh.predict(final_bow_test_data),y_bow_test_data)\n",
    "sns.heatmap(cm_test, annot=True, fmt=\"d\")\n",
    "plt.title(\"test confusion matrix\")\n",
    "plt.xlabel(\"predictual\")\n",
    "plt.ylabel(\"Actual\")\n",
    "print(cm_test)"
   ]
  },
  {
   "cell_type": "markdown",
   "metadata": {},
   "source": [
    "<h3><b>OBSERVATIONS IN BOW DATA USING KNN BRUTE</b></h3>\n",
    " auc value of train is 0.86 and auc value of test is 0.71 ,Confusion marix says out of 13822 points in test data 11467 are correctly predicted reamining 2175 are in-correctly predicted "
   ]
  },
  {
   "cell_type": "markdown",
   "metadata": {},
   "source": [
    "### [5.1.2] Applying KNN brute force on TFIDF,<font color='red'> SET 2</font>"
   ]
  },
  {
   "cell_type": "code",
   "execution_count": 48,
   "metadata": {},
   "outputs": [
    {
     "name": "stdout",
     "output_type": "stream",
     "text": [
      "k= 1 CV: 0.6278163699690402 Train: 1.0\n",
      "k= 9 CV: 0.7804244582043343 Train: 0.9022468753767877\n",
      "k= 17 CV: 0.8116580882352941 Train: 0.886834215156183\n",
      "k= 25 CV: 0.8284724458204334 Train: 0.883168713670192\n",
      "k= 33 CV: 0.8391020897832817 Train: 0.8818341141011213\n",
      "k= 41 CV: 0.8467662151702786 Train: 0.8803109799206638\n",
      "k= 49 CV: 0.8501160216718265 Train: 0.8806711665038573\n",
      "k= 57 CV: 0.8511613390092879 Train: 0.8810833535998185\n",
      "k= 65 CV: 0.8546837074303406 Train: 0.8819011206177777\n",
      "k= 73 CV: 0.8579023606811146 Train: 0.8823152976557364\n",
      "k= 81 CV: 0.8607553018575851 Train: 0.8827505921564587\n",
      "k= 89 CV: 0.8633921052631579 Train: 0.8833237875131155\n",
      "k= 97 CV: 0.8649589396284829 Train: 0.8832673468094849\n"
     ]
    },
    {
     "data": {
      "image/png": "[encoded data removed]",
      "text/plain": [
       "<Figure size 432x288 with 1 Axes>"
      ]
     },
     "metadata": {},
     "output_type": "display_data"
    }
   ],
   "source": [
    "#finding the best hyper parameter  using simple loop method \n",
    "# Reference ,code re-using from sample solution ipynb\n",
    "#Finding the best hypermeter using tfidf train and cv \n",
    "train_auc = []\n",
    "cv_auc = []\n",
    "K = list(range(1,100,8))\n",
    "for i in K:\n",
    "    neigh = KNeighborsClassifier(n_neighbors=i)\n",
    "    neigh.fit(final_tfidf_train_data, y_tfidf_train_data)\n",
    "    # roc_auc_score(y_true, y_score) the 2nd parameter should be probability estimates of the positive class\n",
    "    # not the predicted outputs\n",
    "    y_train_pred =  neigh.predict_proba(final_tfidf_train_data)[:,1]\n",
    "    y_cv_pred =  neigh.predict_proba(final_tfidf_cv_data)[:,1]\n",
    "    train_auc_score=roc_auc_score(y_tfidf_train_data,y_train_pred)\n",
    "    train_auc.append(train_auc_score)\n",
    "    cv_auc_score=roc_auc_score(y_tfidf_cv_data, y_cv_pred)\n",
    "    cv_auc.append(cv_auc_score)\n",
    "    print(\"k=\",i,\"CV:\",cv_auc_score,\"Train:\",train_auc_score)\n",
    "\n",
    "plt.plot(K, train_auc, label='Train AUC')\n",
    "plt.plot(K, cv_auc, label='CV AUC')\n",
    "plt.legend()\n",
    "plt.xlabel(\"K: hyperparameter\")\n",
    "plt.ylabel(\"AUC\")\n",
    "plt.title(\"AUC vs Hyperparameter\")\n",
    "plt.show()"
   ]
  },
  {
   "cell_type": "code",
   "execution_count": null,
   "metadata": {},
   "outputs": [],
   "source": []
  },
  {
   "cell_type": "markdown",
   "metadata": {},
   "source": [
    "There is not much change after k=17 on tfidf data so here we consider optimal k as k=17 "
   ]
  },
  {
   "cell_type": "code",
   "execution_count": 49,
   "metadata": {},
   "outputs": [
    {
     "data": {
      "image/png": "[encoded data removed]",
      "text/plain": [
       "<Figure size 432x288 with 1 Axes>"
      ]
     },
     "metadata": {},
     "output_type": "display_data"
    }
   ],
   "source": [
    "#applying  knn brute version on tfidf train data and predicitng with tfidf test data\n",
    "\n",
    "neigh = KNeighborsClassifier(n_neighbors=17,algorithm = 'brute')\n",
    "neigh.fit(final_tfidf_train_data, y_tfidf_train_data)\n",
    "\n",
    "\n",
    "tfidf_train_fpr, tfidf_train_tpr, tfidf_thresholds = roc_curve(y_tfidf_train_data, neigh.predict_proba(final_tfidf_train_data)[:,1])\n",
    "tfidf_test_fpr, tfidf_test_tpr, tfidf_thresholds = roc_curve(y_tfidf_test_data, neigh.predict_proba(final_tfidf_test_data)[:,1])\n",
    "#plottig ROC curves both train and test \n",
    "plt.plot(tfidf_train_fpr, tfidf_train_tpr, label=\"train AUC =\"+str(auc(tfidf_train_fpr, tfidf_train_tpr)))\n",
    "plt.plot(tfidf_test_fpr, tfidf_test_tpr, label=\"test AUC =\"+str(auc(tfidf_test_fpr, tfidf_test_tpr)))\n",
    "plt.legend()\n",
    "plt.xlabel(\"K: hyperparameter\")\n",
    "plt.ylabel(\"AUC\")\n",
    "plt.title(\"ROC CURVES ON TRAIN AND TEST \")\n",
    "plt.show()"
   ]
  },
  {
   "cell_type": "code",
   "execution_count": 50,
   "metadata": {},
   "outputs": [
    {
     "name": "stdout",
     "output_type": "stream",
     "text": [
      "TFIDF Test confusion matrix\n",
      "[[  356    86]\n",
      " [ 1885 11495]]\n"
     ]
    },
    {
     "data": {
      "image/png": "[encoded data removed]",
      "text/plain": [
       "<Figure size 432x288 with 2 Axes>"
      ]
     },
     "metadata": {},
     "output_type": "display_data"
    }
   ],
   "source": [
    "#TFIDf Test data confusion matrix\n",
    "print(\"TFIDF Test confusion matrix\")\n",
    "tfidf_cm_test = confusion_matrix(neigh.predict(final_tfidf_test_data),y_tfidf_test_data)\n",
    "sns.heatmap(tfidf_cm_test, annot=True, fmt=\"d\")\n",
    "plt.title(\"TFIDF test confusion matrix\")\n",
    "plt.xlabel(\"predictual\")\n",
    "plt.ylabel(\"Actual\")\n",
    "print(tfidf_cm_test)"
   ]
  },
  {
   "cell_type": "markdown",
   "metadata": {},
   "source": [
    "<h2><b>OBSERVATIONS TFIDF USING KNN BRUTE</b></h2><br>\n",
    "In TFIDF data the auc values are closer to each other train auc is 0.88 and test auc is 0.81 which is good performance prediction is also good ,in confusion matrix out of 13822 points of tfidf data 11851 are correctly predicted both positives and negatives and 1971 are in-correctly predicted both positives and negatives "
   ]
  },
  {
   "cell_type": "markdown",
   "metadata": {},
   "source": [
    "### [5.1.3] Applying KNN brute force on AVG W2V,<font color='red'> SET 3</font>"
   ]
  },
  {
   "cell_type": "code",
   "execution_count": 51,
   "metadata": {},
   "outputs": [
    {
     "name": "stdout",
     "output_type": "stream",
     "text": [
      "k =  1 CV: 0.6637983746130032 Train: 1.0\n",
      "k =  9 CV: 0.82695576625387 Train: 0.9153419825796372\n",
      "k =  17 CV: 0.8484204334365325 Train: 0.902882346711829\n",
      "k =  25 CV: 0.8551335913312693 Train: 0.8948622926853995\n",
      "k =  33 CV: 0.8589477941176471 Train: 0.8912053883153694\n",
      "k =  41 CV: 0.8624748839009287 Train: 0.8890075504914497\n",
      "k =  49 CV: 0.8651991486068112 Train: 0.8861079358986004\n",
      "k =  57 CV: 0.8650543730650155 Train: 0.8844266544416717\n",
      "k =  65 CV: 0.8661979102167183 Train: 0.8830986903731407\n",
      "k =  73 CV: 0.8668851780185758 Train: 0.8811318699436794\n",
      "k =  81 CV: 0.8669831269349846 Train: 0.8804039406630173\n",
      "k =  89 CV: 0.8684696981424148 Train: 0.879935879394955\n",
      "k =  97 CV: 0.8684740325077399 Train: 0.8792437124170951\n"
     ]
    },
    {
     "data": {
      "image/png": "[encoded data removed]",
      "text/plain": [
       "<Figure size 432x288 with 1 Axes>"
      ]
     },
     "metadata": {},
     "output_type": "display_data"
    }
   ],
   "source": [
    "#finding the best hyper parameter  using train and cv data with simple loop method \n",
    "# Reference ,code re-using from sample solution ipynb\n",
    "train_auc = []\n",
    "cv_auc = []\n",
    "K = list(range(1,100,8))\n",
    "for i in K:\n",
    "    neigh = KNeighborsClassifier(n_neighbors=i)\n",
    "    neigh.fit(final_avgw2v_train_data, y_avgw2v_train_data)\n",
    "    # roc_auc_score(y_true, y_score) the 2nd parameter should be probability estimates of the positive class\n",
    "    # not the predicted outputs\n",
    "    y_train_pred =  neigh.predict_proba(final_avgw2v_train_data)[:,1]\n",
    "    y_cv_pred =  neigh.predict_proba(final_avgw2v_cv_data)[:,1]\n",
    "    train_auc_score=roc_auc_score(y_avgw2v_train_data,y_train_pred)\n",
    "    train_auc.append(train_auc_score)\n",
    "    cv_auc_score=roc_auc_score(y_avgw2v_cv_data, y_cv_pred)\n",
    "    cv_auc.append(cv_auc_score)\n",
    "    print(\"k = \",i,\"CV:\",cv_auc_score,\"Train:\",train_auc_score)\n",
    "#plotting auc scores both train data and cv data\n",
    "plt.plot(K, train_auc, label='Train AUC')\n",
    "plt.plot(K, cv_auc, label='CV AUC')\n",
    "plt.legend()\n",
    "plt.xlabel(\"AUC: hyperparameter\")\n",
    "plt.ylabel(\"AUC\")\n",
    "plt.title(\"K vs Hyperparameter\")\n",
    "plt.show()"
   ]
  },
  {
   "cell_type": "markdown",
   "metadata": {},
   "source": [
    "There is not much change after k=9 on Avgw2v data so here we consider optimal k as k=9 "
   ]
  },
  {
   "cell_type": "code",
   "execution_count": 52,
   "metadata": {},
   "outputs": [
    {
     "data": {
      "image/png": "[encoded data removed]",
      "text/plain": [
       "<Figure size 432x288 with 1 Axes>"
      ]
     },
     "metadata": {},
     "output_type": "display_data"
    }
   ],
   "source": [
    "#applying  knn brute version on avgw2v data\n",
    "\n",
    "neigh = KNeighborsClassifier(n_neighbors=9,algorithm = 'brute')\n",
    "neigh.fit(final_avgw2v_train_data, y_avgw2v_train_data)\n",
    "\n",
    "\n",
    "avgw2v_train_fpr, avgw2v_train_tpr, avgw2v_thresholds = roc_curve(y_avgw2v_train_data, neigh.predict_proba(final_avgw2v_train_data)[:,1])\n",
    "avgw2v_test_fpr, avgw2v_test_tpr, avgw2v_thresholds = roc_curve(y_avgw2v_test_data, neigh.predict_proba(final_avgw2v_test_data)[:,1])\n",
    "\n",
    "plt.plot(avgw2v_train_fpr, avgw2v_train_tpr, label=\"train AUC =\"+str(auc(avgw2v_train_fpr, avgw2v_train_tpr)))\n",
    "plt.plot(avgw2v_test_fpr, avgw2v_test_tpr, label=\"test AUC =\"+str(auc(avgw2v_test_fpr, avgw2v_test_tpr)))\n",
    "plt.legend()\n",
    "plt.xlabel(\"K: hyperparameter\")\n",
    "plt.ylabel(\"AUC\")\n",
    "plt.title(\"ROC CURVES ON TRAIN AND TEST \")\n",
    "plt.show()"
   ]
  },
  {
   "cell_type": "code",
   "execution_count": 53,
   "metadata": {},
   "outputs": [
    {
     "name": "stdout",
     "output_type": "stream",
     "text": [
      "avgw2v Test confusion matrix\n",
      "[[  696   341]\n",
      " [ 1545 11240]]\n"
     ]
    },
    {
     "data": {
      "image/png": "[encoded data removed]",
      "text/plain": [
       "<Figure size 432x288 with 2 Axes>"
      ]
     },
     "metadata": {},
     "output_type": "display_data"
    }
   ],
   "source": [
    "#avgw2v Test data confusion matrix\n",
    "print(\"avgw2v Test confusion matrix\")\n",
    "avgw2v_cm_test = confusion_matrix(neigh.predict(final_avgw2v_test_data),y_avgw2v_test_data)\n",
    "sns.heatmap(avgw2v_cm_test, annot=True, fmt=\"d\")\n",
    "plt.title(\"avgw2v test confusion matrix\")\n",
    "plt.xlabel(\"predictual\")\n",
    "plt.ylabel(\"Actual\")\n",
    "print(avgw2v_cm_test)"
   ]
  },
  {
   "cell_type": "markdown",
   "metadata": {},
   "source": [
    "<h2><b>OBSERVATIONS IN AVGW2V USING KNN BRUTE</b></h2><br>\n",
    "here we got confsion matrix 11936 are correctly predicted and 1886 are wrongly predicted and we got cv auc as 0.82 at k= 9 and test auc is 0.82 and train auc is 0.91 which is goog performance "
   ]
  },
  {
   "cell_type": "markdown",
   "metadata": {},
   "source": [
    "### [5.1.4] Applying KNN brute force on TFIDF W2V,<font color='red'> SET 4</font>"
   ]
  },
  {
   "cell_type": "code",
   "execution_count": 54,
   "metadata": {},
   "outputs": [
    {
     "data": {
      "text/plain": [
       "'print(\"TFIDFW2V data in train cv and test \")\\nprint(\"-\"*50)\\nprint(\"final_tfidfw2v_train_data, y_tfidfw2v_train_data\")\\nprint(\"final_tfidfw2v_cv_data, y_tfidfw2v_cv_data\")\\nprint(\"final_tfidfw2v_test_data, y_tfidfw2v_test_data\")'"
      ]
     },
     "execution_count": 54,
     "metadata": {},
     "output_type": "execute_result"
    }
   ],
   "source": [
    "'''print(\"TFIDFW2V data in train cv and test \")\n",
    "print(\"-\"*50)\n",
    "print(\"final_tfidfw2v_train_data, y_tfidfw2v_train_data\")\n",
    "print(\"final_tfidfw2v_cv_data, y_tfidfw2v_cv_data\")\n",
    "print(\"final_tfidfw2v_test_data, y_tfidfw2v_test_data\")'''"
   ]
  },
  {
   "cell_type": "code",
   "execution_count": 55,
   "metadata": {},
   "outputs": [
    {
     "name": "stdout",
     "output_type": "stream",
     "text": [
      "k =  1 CV: 0.6379982585139319 Train: 1.0\n",
      "k =  9 CV: 0.7897195046439628 Train: 0.8977872170743312\n",
      "k =  17 CV: 0.812828366873065 Train: 0.8821173232127385\n",
      "k =  25 CV: 0.8217479489164087 Train: 0.8727119013105475\n",
      "k =  33 CV: 0.8268601780185758 Train: 0.8672624911810515\n",
      "k =  41 CV: 0.831562886996904 Train: 0.861320701417588\n",
      "k =  49 CV: 0.8326158281733747 Train: 0.857968923847724\n",
      "k =  57 CV: 0.832080959752322 Train: 0.8558278595647085\n",
      "k =  65 CV: 0.8315337461300311 Train: 0.8544012552752405\n",
      "k =  73 CV: 0.8324515866873066 Train: 0.8531886299444801\n",
      "k =  81 CV: 0.8327322755417955 Train: 0.8515536766033794\n",
      "k =  89 CV: 0.833132314241486 Train: 0.850340817578363\n",
      "k =  97 CV: 0.8329969040247678 Train: 0.8489368533051441\n"
     ]
    },
    {
     "data": {
      "image/png": "[encoded data removed]",
      "text/plain": [
       "<Figure size 432x288 with 1 Axes>"
      ]
     },
     "metadata": {},
     "output_type": "display_data"
    }
   ],
   "source": [
    "# Please write all the code with proper documentation\n",
    "#finding the best hyper parameter  using simple loop method \n",
    "# Reference ,code re-using from sample solution ipynb\n",
    "#finding the best hyperperameter using train and cv data \n",
    "train_auc = []\n",
    "cv_auc = []\n",
    "K = list(range(1,100,8))\n",
    "for i in K:\n",
    "    neigh = KNeighborsClassifier(n_neighbors=i)\n",
    "    neigh.fit(final_tfidfw2v_train_data, y_tfidfw2v_train_data)\n",
    "    # roc_auc_score(y_true, y_score) the 2nd parameter should be probability estimates of the positive class\n",
    "    # not the predicted outputs\n",
    "    y_train_pred =  neigh.predict_proba(final_tfidfw2v_train_data)[:,1]\n",
    "    y_cv_pred =  neigh.predict_proba(final_tfidfw2v_cv_data)[:,1]\n",
    "    train_auc_score=roc_auc_score(y_tfidfw2v_train_data,y_train_pred)\n",
    "    train_auc.append(train_auc_score)\n",
    "    cv_auc_score=roc_auc_score(y_tfidfw2v_cv_data, y_cv_pred)\n",
    "    cv_auc.append(cv_auc_score)\n",
    "    print(\"k = \",i,\"CV:\",cv_auc_score,\"Train:\",train_auc_score)\n",
    "\n",
    "\n",
    "plt.plot(K, train_auc, label='Train AUC')\n",
    "plt.plot(K, cv_auc, label='CV AUC')\n",
    "plt.legend()\n",
    "plt.xlabel(\"K: hyperparameter\")\n",
    "plt.ylabel(\"AUC\")\n",
    "plt.title(\"AUC  vs Hyperparameter\")\n",
    "plt.show()\n"
   ]
  },
  {
   "cell_type": "markdown",
   "metadata": {},
   "source": [
    "There is not much change after k=17 on tfidfw2v data so here we consider optimal k as k=17 "
   ]
  },
  {
   "cell_type": "code",
   "execution_count": 86,
   "metadata": {},
   "outputs": [
    {
     "data": {
      "image/png": "[encoded data removed]",
      "text/plain": [
       "<Figure size 432x288 with 1 Axes>"
      ]
     },
     "metadata": {},
     "output_type": "display_data"
    }
   ],
   "source": [
    "#applying  knn brute version on tfidfw2v data\n",
    "\n",
    "neigh = KNeighborsClassifier(n_neighbors=17,algorithm = 'brute')\n",
    "neigh.fit(final_tfidfw2v_train_data, y_tfidfw2v_train_data)\n",
    "\n",
    "\n",
    "tfidfw2v_train_fpr, tfidfw2v_train_tpr, tfidfw2v_thresholds = roc_curve(y_tfidfw2v_train_data, neigh.predict_proba(final_tfidfw2v_train_data)[:,1])\n",
    "tfidfw2v_test_fpr, tfidfw2v_test_tpr, tfidfw2v_thresholds = roc_curve(y_tfidfw2v_test_data, neigh.predict_proba(final_tfidfw2v_test_data)[:,1])\n",
    "\n",
    "plt.plot(tfidfw2v_train_fpr, tfidfw2v_train_tpr, label=\"train AUC =\"+str(auc(tfidfw2v_train_fpr, tfidfw2v_train_tpr)))\n",
    "plt.plot(tfidfw2v_test_fpr, tfidfw2v_test_tpr, label=\"test AUC =\"+str(auc(tfidfw2v_test_fpr, tfidfw2v_test_tpr)))\n",
    "plt.legend()\n",
    "plt.xlabel(\"K: hyperparameter\")\n",
    "plt.ylabel(\"AUC\")\n",
    "plt.title(\"ROC CURVES ON TRAIN AND TEST \")\n",
    "plt.show()"
   ]
  },
  {
   "cell_type": "code",
   "execution_count": 87,
   "metadata": {},
   "outputs": [
    {
     "name": "stdout",
     "output_type": "stream",
     "text": [
      "tfidfw2v Test confusion matrix\n",
      "[[  71   35]\n",
      " [ 906 4988]]\n"
     ]
    },
    {
     "data": {
      "image/png": "[encoded data removed]",
      "text/plain": [
       "<Figure size 432x288 with 2 Axes>"
      ]
     },
     "metadata": {},
     "output_type": "display_data"
    }
   ],
   "source": [
    "#avgw2v Test data confusion matrix\n",
    "print(\"tfidfw2v Test confusion matrix\")\n",
    "tfidfw2v_cm_test = confusion_matrix(neigh.predict(final_tfidfw2v_test_data),y_tfidfw2v_test_data)\n",
    "sns.heatmap(tfidfw2v_cm_test, annot=True, fmt=\"d\")\n",
    "plt.title(\"tfidfw2v test confusion matrix\")\n",
    "plt.xlabel(\"predictual\")\n",
    "plt.ylabel(\"Actual\")\n",
    "print(tfidfw2v_cm_test)"
   ]
  },
  {
   "cell_type": "markdown",
   "metadata": {},
   "source": [
    "<h2><b>OBSERVATIONS IN TFIDFW2V</b></h2><br>\n",
    "here we got confsion matrix 5059 are correctly predicted and 941 are wrongly predicted out of 13822 positive and negative  and we got test auc as 0.72 train is0.81  "
   ]
  },
  {
   "cell_type": "markdown",
   "metadata": {},
   "source": [
    "## [5.2] Applying KNN kd-tree"
   ]
  },
  {
   "cell_type": "markdown",
   "metadata": {},
   "source": [
    "### [5.2.1] Applying KNN kd-tree on BOW,<font color='red'> SET 5</font>"
   ]
  },
  {
   "cell_type": "code",
   "execution_count": 58,
   "metadata": {},
   "outputs": [
    {
     "name": "stdout",
     "output_type": "stream",
     "text": [
      "Data splitted sucessfully in to train ,test,cv\n"
     ]
    }
   ],
   "source": [
    "x_bow_dense=final['CleanedText'][:20000,] #taking 20k data\n",
    "y_bow_dense=final['Score'][:20000,]\n",
    "#splitted the data in to train and test\n",
    "x_bow_train_dense,x_bow_test_data_dense,y_bow_train_dense,y_bow_test_data_dense = train_test_split(x_bow_dense, y_bow_dense, test_size=0.3, random_state=0)\n",
    "#splitted the above train data into 2nd train and cross validation \n",
    "x_bow_train_data_dense,x_bow_cv_data_dense,y_bow_train_data_dense,y_bow_cv_data_dense = train_test_split(x_bow_train_dense, y_bow_train_dense, test_size=0.3, random_state=0)\n",
    "\n",
    "print(\"Data splitted sucessfully in to train ,test,cv\")"
   ]
  },
  {
   "cell_type": "code",
   "execution_count": 59,
   "metadata": {},
   "outputs": [
    {
     "name": "stdout",
     "output_type": "stream",
     "text": [
      "x_bow_train_data_dense,y_bow_train_data_dense\n",
      " (9800,) (9800,)\n",
      "\n",
      "x_bow_cv_data_dense,y_bow_cv_data_dense\n",
      " (4200,) (4200,)\n",
      "\n",
      "x_bow_test_data_dense,y_bow_test_data_dense\n",
      " (6000,) (6000,)\n",
      "\n"
     ]
    }
   ],
   "source": [
    "print(\"x_bow_train_data_dense,y_bow_train_data_dense\\n\",x_bow_train_data_dense.shape,y_bow_train_data_dense.shape)\n",
    "print()\n",
    "print(\"x_bow_cv_data_dense,y_bow_cv_data_dense\\n\",x_bow_cv_data_dense.shape,y_bow_cv_data_dense.shape)\n",
    "print()\n",
    "print(\"x_bow_test_data_dense,y_bow_test_data_dense\\n\",x_bow_test_data_dense.shape,y_bow_test_data_dense.shape)\n",
    "print()"
   ]
  },
  {
   "cell_type": "code",
   "execution_count": 60,
   "metadata": {},
   "outputs": [
    {
     "name": "stdout",
     "output_type": "stream",
     "text": [
      "--------------------------------------------------\n",
      "here below  we converting scipy to dense for knn \n",
      "--------------------------------------------------\n",
      "Bow splitted data\n",
      " final_bow_train_data_dense,y_bow_train_data_dense\n",
      " final_bow_test_data_dense,y_bow_test_data_dense\n",
      " final_bow_cv_data_dense,y_bow_cv_data_dense\n",
      "\n"
     ]
    }
   ],
   "source": [
    "#bow dense\n",
    "count_vect = CountVectorizer(max_features=500) #in scikit-learn\n",
    "final_counts_bow_train = count_vect.fit_transform(x_bow_train_data_dense.values)\n",
    "final_bow_train_data=final_counts_bow_train\n",
    "final_bow_train_data_dense=final_bow_train_data.todense()\n",
    "\n",
    "#transform  on testdata\n",
    "final_bow_test_data = count_vect.transform(x_bow_test_data_dense)\n",
    "final_bow_test_data_dense=final_bow_test_data.todense()\n",
    "\n",
    "#transform on cv data \n",
    "final_bow_cv_data = count_vect.transform(x_bow_cv_data_dense)\n",
    "final_bow_cv_data_dense=final_bow_cv_data.todense()\n",
    "\n",
    "\n",
    "\n",
    "#print(\"the type of count vectorizer \",type(final_bow_train_data_dense))\n",
    "#print(\"the shape of out text BOW vectorizer \",final_bow_train_data_dense.get_shape())\n",
    "#print(\"the number of unique words \", final_bow_train_data_dense.get_shape()[1])\n",
    "#dense_bow=final_bow_train_data.todense()\n",
    "print('-' * 50 )\n",
    "print(\"here below  we converting scipy to dense for knn \")\n",
    "print('-' * 50 )\n",
    "#print(\"the type of count vectorizer \",type(dense_bow))\n",
    "\n",
    "#print(final_bow_train_data_dense.shape,y_bow_train_data_dense.shape)\n",
    "#print(final_bow_test_data_dense.shape,y_bow_test_data_dense.shape)\n",
    "#print(final_bow_cv_data_dense.shape,y_bow_cv_data_dense.shape)\n",
    "print(\"Bow splitted data\\n\", \"final_bow_train_data_dense,y_bow_train_data_dense\\n\",\"final_bow_test_data_dense,y_bow_test_data_dense\\n\",\"final_bow_cv_data_dense,y_bow_cv_data_dense\\n\")"
   ]
  },
  {
   "cell_type": "code",
   "execution_count": 61,
   "metadata": {},
   "outputs": [
    {
     "name": "stdout",
     "output_type": "stream",
     "text": [
      "k =  1 CV: 0.5836881838147883 Train: 1.0\n",
      "k =  9 CV: 0.7057014789541202 Train: 0.8755739280174354\n",
      "k =  17 CV: 0.7413757060629061 Train: 0.8524149624013387\n",
      "k =  25 CV: 0.7504573457407867 Train: 0.8429481627960951\n",
      "k =  33 CV: 0.7610501783207625 Train: 0.834486205700691\n",
      "k =  41 CV: 0.7634309368052712 Train: 0.8261447943422842\n",
      "k =  49 CV: 0.7703696209928201 Train: 0.8232939030380217\n",
      "k =  57 CV: 0.7705931516095883 Train: 0.8200667291382648\n",
      "k =  65 CV: 0.7735053462646668 Train: 0.8206918295129637\n",
      "k =  73 CV: 0.7769093082766356 Train: 0.8200300580180174\n",
      "k =  81 CV: 0.7758132736468107 Train: 0.8175890837224739\n",
      "k =  89 CV: 0.7818723176325987 Train: 0.8176478574571262\n",
      "k =  97 CV: 0.7825015615659988 Train: 0.8176594661346049\n"
     ]
    },
    {
     "data": {
      "image/png": "[encoded data removed]",
      "text/plain": [
       "<Figure size 432x288 with 1 Axes>"
      ]
     },
     "metadata": {},
     "output_type": "display_data"
    }
   ],
   "source": [
    "#finding the best hyperperameter using bow dense data with train and cv\n",
    "train_auc = []\n",
    "cv_auc = []\n",
    "K = list(range(1,100,8))\n",
    "for i in K:\n",
    "    neigh = KNeighborsClassifier(n_neighbors=i)\n",
    "    neigh.fit(final_bow_train_data_dense, y_bow_train_data_dense)\n",
    "    # roc_auc_score(y_true, y_score) the 2nd parameter should be probability estimates of the positive class\n",
    "    # not the predicted outputs\n",
    "    y_train_pred =  neigh.predict_proba(final_bow_train_data_dense)[:,1]\n",
    "    y_cv_pred =  neigh.predict_proba(final_bow_cv_data_dense)[:,1]\n",
    "    train_auc_score=roc_auc_score(y_bow_train_data_dense,y_train_pred)\n",
    "    train_auc.append(train_auc_score)\n",
    "    cv_auc_score=roc_auc_score(y_bow_cv_data_dense, y_cv_pred)\n",
    "    cv_auc.append(cv_auc_score)\n",
    "    print(\"k = \",i,\"CV:\",cv_auc_score,\"Train:\",train_auc_score)\n",
    "\n",
    "plt.plot(K, train_auc, label='Train AUC')\n",
    "plt.plot(K, cv_auc, label='CV AUC')\n",
    "plt.legend()\n",
    "plt.xlabel(\"K: hyperparameter\")\n",
    "plt.ylabel(\"AUC\")\n",
    "plt.title(\"AUC vs Hyperparameter\")\n",
    "plt.show()"
   ]
  },
  {
   "cell_type": "markdown",
   "metadata": {},
   "source": [
    "The optimal k is 9 there is n much value changed in after k=9 so here we consider optimal k=9 for bow data in kd-tree"
   ]
  },
  {
   "cell_type": "code",
   "execution_count": 97,
   "metadata": {},
   "outputs": [
    {
     "data": {
      "image/png": "[encoded data removed]",
      "text/plain": [
       "<Figure size 432x288 with 1 Axes>"
      ]
     },
     "metadata": {},
     "output_type": "display_data"
    }
   ],
   "source": [
    "#applying  knn k-d tree version on dense bow data\n",
    "from sklearn.metrics import roc_curve, auc\n",
    "\n",
    "neigh = KNeighborsClassifier(n_neighbors=9,algorithm = 'kd_tree')\n",
    "neigh.fit(final_bow_train_data_dense, y_bow_train_data_dense)\n",
    "\n",
    "\n",
    "bow_train_fpr_dense, bow_train_tpr_dense, bow_thresholds_dense = roc_curve(y_bow_train_data_dense, neigh.predict_proba(final_bow_train_data_dense)[:,1])\n",
    "bow_test_fpr_dense, bow_test_tpr_dense, bow_thresholds_dense = roc_curve(y_bow_test_data_dense, neigh.predict_proba(final_bow_test_data_dense)[:,1])\n",
    "\n",
    "plt.plot(bow_train_fpr_dense, bow_train_tpr_dense, label=\"train AUC =\"+str(auc(bow_train_fpr_dense, bow_train_tpr_dense)))\n",
    "plt.plot(bow_test_fpr_dense, bow_test_tpr_dense, label=\"test AUC =\"+str(auc(bow_test_fpr_dense, bow_test_tpr_dense)))\n",
    "plt.legend()\n",
    "plt.xlabel(\"K: hyperparameter\")\n",
    "plt.ylabel(\"AUC\")\n",
    "plt.title(\"ROC CURVES ON TRAIN AND TEST \")\n",
    "plt.show()"
   ]
  },
  {
   "cell_type": "code",
   "execution_count": 98,
   "metadata": {},
   "outputs": [
    {
     "name": "stdout",
     "output_type": "stream",
     "text": [
      "Test confusion matrix\n",
      "[[  62   36]\n",
      " [ 915 4987]]\n"
     ]
    },
    {
     "data": {
      "image/png": "[encoded data removed]",
      "text/plain": [
       "<Figure size 432x288 with 2 Axes>"
      ]
     },
     "metadata": {},
     "output_type": "display_data"
    }
   ],
   "source": [
    "#Test data confusion matrix\n",
    "print(\"Test confusion matrix\")\n",
    "cm_test_dense = confusion_matrix(neigh.predict(final_bow_test_data_dense),y_bow_test_data_dense)\n",
    "sns.heatmap(cm_test_dense, annot=True, fmt=\"d\")\n",
    "plt.title(\"test confusion matrix\")\n",
    "plt.xlabel(\"predictual\")\n",
    "plt.ylabel(\"Actual\")\n",
    "print(cm_test_dense)"
   ]
  },
  {
   "cell_type": "markdown",
   "metadata": {},
   "source": [
    "<h2><b>OBSERVATIONS</b></h2><br>\n",
    "Here in confusion matrix we get 5049 are correctly predicted and 951 are in-correctly predicted and we got train auc is 0.87 and test auc is 0.68\n"
   ]
  },
  {
   "cell_type": "markdown",
   "metadata": {},
   "source": [
    "### [5.2.2] Applying KNN kd-tree on TFIDF,<font color='red'> SET 6</font>"
   ]
  },
  {
   "cell_type": "code",
   "execution_count": 64,
   "metadata": {},
   "outputs": [
    {
     "name": "stdout",
     "output_type": "stream",
     "text": [
      "Data splitted sucessfully in to train ,test,cv\n",
      "(9800,) (9800,)\n",
      "(4200,) (4200,)\n",
      "(6000,) (6000,)\n"
     ]
    }
   ],
   "source": [
    "# Please write all the code with proper documentation\n",
    "#splitting the data \n",
    "x_tfidf_dense=final['CleanedText'][:20000,] #taking whole data\n",
    "y_tfidf_dense=final['Score'][:20000,]\n",
    "#splitted the data in to train and test\n",
    "x_tfidf_train_dense,x_tfidf_test_data_dense,y_tfidf_train_dense,y_tfidf_test_data_dense = train_test_split(x_tfidf_dense, y_tfidf_dense, test_size=0.3, random_state=0)\n",
    "#splitted the above train data into 2nd train and cross validation \n",
    "x_tfidf_train_data_dense,x_tfidf_cv_data_dense,y_tfidf_train_data_dense,y_tfidf_cv_data_dense = train_test_split(x_tfidf_train_dense, y_tfidf_train_dense, test_size=0.3, random_state=0)\n",
    "\n",
    "print(\"Data splitted sucessfully in to train ,test,cv\")\n",
    "\n",
    "print(x_tfidf_train_data_dense.shape,y_tfidf_train_data_dense.shape)\n",
    "print(x_tfidf_cv_data_dense.shape,y_tfidf_cv_data_dense.shape)\n",
    "print(x_tfidf_test_data_dense.shape,y_tfidf_test_data_dense.shape)\n"
   ]
  },
  {
   "cell_type": "code",
   "execution_count": 65,
   "metadata": {},
   "outputs": [
    {
     "name": "stdout",
     "output_type": "stream",
     "text": [
      "final data after converted to dence\n",
      "--------------------------------------------------\n",
      "final_tfidf_train_data_dense,y_tfidf_train_data_dense\n",
      "final_tfidf_test_data_dense,y_tfidf_test_data_dense\n",
      "final_tfidf_cv_data_dense,y_tfidf_cv_data_dense\n"
     ]
    }
   ],
   "source": [
    "#tfidf vectorizer 20k sample for dence \n",
    "tf_idf_vect_dense = TfidfVectorizer(ngram_range=(1,2),max_features=500)\n",
    "\n",
    "final_tfidf_train_data = tf_idf_vect_dense.fit_transform(x_tfidf_train_data_dense.values)\n",
    "final_tfidf_train_data_dense=final_tfidf_train_data.todense()\n",
    "\n",
    "final_tfidf_test_data = tf_idf_vect_dense.transform(x_tfidf_test_data_dense)\n",
    "final_tfidf_test_data_dense=final_tfidf_test_data.todense()\n",
    "\n",
    "final_tfidf_cv_data = tf_idf_vect_dense.transform(x_tfidf_cv_data_dense)\n",
    "final_tfidf_cv_data_dense=final_tfidf_cv_data.todense()\n",
    "print(\"final data after converted to dence\")\n",
    "print(\"-\"*50)\n",
    "print(\"final_tfidf_train_data_dense,y_tfidf_train_data_dense\")\n",
    "print(\"final_tfidf_test_data_dense,y_tfidf_test_data_dense\")\n",
    "print(\"final_tfidf_cv_data_dense,y_tfidf_cv_data_dense\")"
   ]
  },
  {
   "cell_type": "code",
   "execution_count": 66,
   "metadata": {},
   "outputs": [
    {
     "name": "stdout",
     "output_type": "stream",
     "text": [
      "k =  1 CV: 0.5617901591118216 Train: 1.0\n",
      "k =  9 CV: 0.7488311342678103 Train: 0.8904478727713551\n",
      "k =  17 CV: 0.7723805569921216 Train: 0.8655326526343126\n",
      "k =  25 CV: 0.7784540832432215 Train: 0.8534294147435277\n",
      "k =  33 CV: 0.7877460305999772 Train: 0.8488544041976978\n",
      "k =  41 CV: 0.7928962599654775 Train: 0.8450351877465259\n",
      "k =  49 CV: 0.7981839659074881 Train: 0.8413300976643419\n",
      "k =  57 CV: 0.8030050910409768 Train: 0.8413800303532321\n",
      "k =  65 CV: 0.808377171920021 Train: 0.8413442433375609\n",
      "k =  73 CV: 0.8112482285460981 Train: 0.8407370172510331\n",
      "k =  81 CV: 0.8138470605618952 Train: 0.842075051868109\n",
      "k =  89 CV: 0.815022642706983 Train: 0.8420655957930769\n",
      "k =  97 CV: 0.8195310348648994 Train: 0.8429617318793736\n"
     ]
    },
    {
     "data": {
      "image/png": "[encoded data removed]",
      "text/plain": [
       "<Figure size 432x288 with 1 Axes>"
      ]
     },
     "metadata": {},
     "output_type": "display_data"
    }
   ],
   "source": [
    "#finding the best hyperperameter on dense tfidf with train and cv data \n",
    "train_auc = []\n",
    "cv_auc = []\n",
    "K = list(range(1,100,8))\n",
    "for i in K:\n",
    "    neigh = KNeighborsClassifier(n_neighbors=i)\n",
    "    neigh.fit(final_tfidf_train_data_dense, y_tfidf_train_data_dense)\n",
    "    # roc_auc_score(y_true, y_score) the 2nd parameter should be probability estimates of the positive class\n",
    "    # not the predicted outputs\n",
    "    y_train_pred =  neigh.predict_proba(final_tfidf_train_data_dense)[:,1]\n",
    "    y_cv_pred =  neigh.predict_proba(final_tfidf_cv_data_dense)[:,1]\n",
    "    train_auc_score=roc_auc_score(y_tfidf_train_data_dense,y_train_pred)\n",
    "    train_auc.append(train_auc_score)\n",
    "    cv_auc_score=roc_auc_score(y_tfidf_cv_data_dense, y_cv_pred)\n",
    "    cv_auc.append(cv_auc_score)\n",
    "    print(\"k = \",i,\"CV:\",cv_auc_score,\"Train:\",train_auc_score)\n",
    "\n",
    "plt.plot(K, train_auc, label='Train AUC')\n",
    "plt.plot(K, cv_auc, label='CV AUC')\n",
    "plt.legend()\n",
    "plt.xlabel(\"K: hyperparameter\")\n",
    "plt.ylabel(\"AUC\")\n",
    "plt.title(\"AUC vs Hyperparameter\")\n",
    "plt.show()"
   ]
  },
  {
   "cell_type": "markdown",
   "metadata": {},
   "source": [
    "Here for tfidf data we get optimal k is 9 "
   ]
  },
  {
   "cell_type": "code",
   "execution_count": 90,
   "metadata": {},
   "outputs": [
    {
     "data": {
      "image/png": "[encoded data removed]",
      "text/plain": [
       "<Figure size 432x288 with 1 Axes>"
      ]
     },
     "metadata": {},
     "output_type": "display_data"
    }
   ],
   "source": [
    "#applying  knn k-dtree version on tfidf dense data\n",
    "\n",
    "neigh = KNeighborsClassifier(n_neighbors=9,algorithm = 'kd_tree')\n",
    "neigh.fit(final_tfidf_train_data_dense, y_tfidf_train_data_dense)\n",
    "\n",
    "\n",
    "tfidf_train_fpr_dense, tfidf_train_tpr_dense, tfidf_thresholds_dense = roc_curve(y_tfidf_train_data_dense, neigh.predict_proba(final_tfidf_train_data_dense)[:,1])\n",
    "tfidf_test_fpr_dense, tfidf_test_tpr_dense, tfidf_thresholds_dense = roc_curve(y_tfidf_test_data_dense, neigh.predict_proba(final_tfidf_test_data_dense)[:,1])\n",
    "\n",
    "plt.plot(tfidf_train_fpr_dense, tfidf_train_tpr_dense, label=\"train AUC =\"+str(auc(tfidf_train_fpr_dense, tfidf_train_tpr_dense)))\n",
    "plt.plot(tfidf_test_fpr_dense, tfidf_test_tpr_dense, label=\"test AUC =\"+str(auc(tfidf_test_fpr_dense, tfidf_test_tpr_dense)))\n",
    "plt.legend()\n",
    "plt.xlabel(\"K: hyperparameter\")\n",
    "plt.ylabel(\"AUC\")\n",
    "plt.title(\"ROC CURVES ON TRAIN AND TEST \")\n",
    "plt.show()"
   ]
  },
  {
   "cell_type": "code",
   "execution_count": 91,
   "metadata": {},
   "outputs": [
    {
     "name": "stdout",
     "output_type": "stream",
     "text": [
      "TFIDF Test confusion matrix\n",
      "[[ 132   80]\n",
      " [ 845 4943]]\n"
     ]
    },
    {
     "data": {
      "image/png": "[encoded data removed]",
      "text/plain": [
       "<Figure size 432x288 with 2 Axes>"
      ]
     },
     "metadata": {},
     "output_type": "display_data"
    }
   ],
   "source": [
    "#TFIDf Test dense data confusion matrix\n",
    "print(\"TFIDF Test confusion matrix\")\n",
    "tfidf_cm_test_dense = confusion_matrix(neigh.predict(final_tfidf_test_data_dense),y_tfidf_test_data_dense)\n",
    "sns.heatmap(tfidf_cm_test_dense, annot=True, fmt=\"d\")\n",
    "plt.title(\"TFIDF test confusion matrix\")\n",
    "plt.xlabel(\"predictual\")\n",
    "plt.ylabel(\"Actual\")\n",
    "print(tfidf_cm_test_dense)"
   ]
  },
  {
   "cell_type": "markdown",
   "metadata": {},
   "source": [
    "In confusion matrix we get 5075 are correctly predicted and 925 are in-correctly predicted and train auc is 0.89 and test auc is 0.74 which is average performance "
   ]
  },
  {
   "cell_type": "markdown",
   "metadata": {},
   "source": [
    "<h2><b>OBSERVATIONS</b></h2><br>\n",
    "Here knn KD_Tree algorithm both train curve and test curve are closer to each other which says test performs more accurately be a good performance "
   ]
  },
  {
   "cell_type": "markdown",
   "metadata": {},
   "source": [
    "### [5.2.3] Applying KNN kd-tree on AVG W2V,<font color='red'> SET 3</font>"
   ]
  },
  {
   "cell_type": "code",
   "execution_count": 69,
   "metadata": {},
   "outputs": [
    {
     "name": "stdout",
     "output_type": "stream",
     "text": [
      "avgw2v Data splitted sucessfully in to train ,test,cv\n",
      "cleantext train data\n",
      "cleantext cv data\n",
      "cleantext test data\n"
     ]
    }
   ],
   "source": [
    "#avgw2v on kd-tree\n",
    "x_avgw2v=final['CleanedText'][:20000,] #taking 20k data\n",
    "y_avgw2v=final['Score'][:20000,]\n",
    "#splitted the data in to train and test\n",
    "x_avgw2v_train,x_avgw2v_test_data,y_avgw2v_train,y_avgw2v_test_data = train_test_split(x_avgw2v, y_avgw2v, test_size=0.3, random_state=0)\n",
    "#splitted the above train data into 2nd train and cross validation \n",
    "x_avgw2v_train_data,x_avgw2v_cv_data,y_avgw2v_train_data,y_avgw2v_cv_data = train_test_split(x_avgw2v_train, y_avgw2v_train, test_size=0.3, random_state=0)\n",
    "\n",
    "print(\"avgw2v Data splitted sucessfully in to train ,test,cv\")\n",
    "\n",
    "#train data\n",
    "cleantext_train= x_avgw2v_train_data # building own text corpus from w2v train data  \n",
    "i=0\n",
    "list_of_sentance_train=[]\n",
    "for sentance_train in cleantext_train:\n",
    "    list_of_sentance_train.append(sentance_train.split())\n",
    "print(\"cleantext train data\")\n",
    "    \n",
    "#cv data\n",
    "cleantext_cv= x_avgw2v_cv_data # building own text corpus from w2v train data  \n",
    "j=0\n",
    "list_of_sentance_cv=[]\n",
    "for sentance_cv in cleantext_cv:\n",
    "    list_of_sentance_cv.append(sentance_cv.split())\n",
    "print(\"cleantext cv data\")\n",
    "\n",
    "\n",
    "#test data\n",
    "cleantext_test= x_avgw2v_test_data # building own text corpus from w2v train data  \n",
    "k=0\n",
    "list_of_sentance_test=[]\n",
    "for sentance_test in cleantext_test:\n",
    "    list_of_sentance_test.append(sentance_test.split())\n",
    "print(\"cleantext test data\")\n",
    "\n"
   ]
  },
  {
   "cell_type": "code",
   "execution_count": 70,
   "metadata": {},
   "outputs": [],
   "source": [
    "#WORD2VEC USING OWN CORPUS FROM ABOVE DATA \n",
    "# min_count = 5 considers only words that occured atleast 5 times\n",
    "w2v_train_model=Word2Vec(list_of_sentance_train,min_count=5,size=50, workers=4)"
   ]
  },
  {
   "cell_type": "code",
   "execution_count": 71,
   "metadata": {},
   "outputs": [
    {
     "name": "stdout",
     "output_type": "stream",
     "text": [
      "number of words that occured minimum 5 times  4422\n",
      "sample words from corpus   ['reason', 'stop', 'sell', 'store', 'worth', 'favorit', 'chicken', 'jack', 'link', 'famili', 'great', 'snack', 'anytim', 'wish', 'come', 'individu', 'wrap', 'stay', 'fresher', 'longer', 'contain', 'sort', 'would', 'ideal', 'still', 'tast', 'buy', 'price', 'mayb', 'constant', 'product', 'bit', 'annoy', 'use', 'protein', 'drink', 'year', 'better', 'tri', 'could', 'make', 'due', 'bake', 'chocol', 'harder', 'find', 'late', 'stock', 'unsur', 'difficult']\n"
     ]
    }
   ],
   "source": [
    "w2v_words_train = list(w2v_train_model.wv.vocab)\n",
    "print(\"number of words that occured minimum 5 times \",len(w2v_words_train))\n",
    "print(\"sample words from corpus  \", w2v_words_train[0:50])"
   ]
  },
  {
   "cell_type": "code",
   "execution_count": 72,
   "metadata": {},
   "outputs": [
    {
     "name": "stderr",
     "output_type": "stream",
     "text": [
      "100%|█████████████████████████████████████| 9800/9800 [00:11<00:00, 845.46it/s]\n"
     ]
    },
    {
     "name": "stdout",
     "output_type": "stream",
     "text": [
      "9800\n",
      "50\n",
      "<class 'list'>\n"
     ]
    }
   ],
   "source": [
    "# average Word2Vec train data \n",
    "# compute average word2vec_train for each review.\n",
    "sent_vectors_train = []; # the avg-w2v_train for each sentence/review is stored in this list\n",
    "final_avgw2v_train_data=sent_vectors_train\n",
    "\n",
    "for sent_train in tqdm(list_of_sentance_train): # for each train_review/sentence\n",
    "    sent_vec_train = np.zeros(50) # as word vectors are of zero length 50, you might need to change this to 300 if you use google's w2v\n",
    "    cnt_words_train =0; # num of words with a valid vector in the train_sentence/review\n",
    "    for word_train in sent_train: # for each word in a train_review/sentence\n",
    "        if word_train in w2v_words_train:\n",
    "            vec_train = w2v_train_model.wv[word_train]\n",
    "            sent_vec_train += vec_train\n",
    "            cnt_words_train += 1\n",
    "    if cnt_words_train != 0:\n",
    "        sent_vec_train /= cnt_words_train\n",
    "    sent_vectors_train.append(sent_vec_train)\n",
    "print(len(sent_vectors_train))\n",
    "print(len(sent_vectors_train[0]))\n",
    "print(type(final_avgw2v_train_data))"
   ]
  },
  {
   "cell_type": "code",
   "execution_count": 73,
   "metadata": {},
   "outputs": [
    {
     "name": "stderr",
     "output_type": "stream",
     "text": [
      "100%|█████████████████████████████████████| 4200/4200 [00:05<00:00, 809.14it/s]\n"
     ]
    },
    {
     "name": "stdout",
     "output_type": "stream",
     "text": [
      "4200\n",
      "50\n",
      "<class 'list'>\n"
     ]
    }
   ],
   "source": [
    "# average Word2Vec cv data \n",
    "# compute average word2vec_cv for each review.\n",
    "sent_vectors_cv = []; # the avg-w2v_cv for each sentence/review is stored in this list\n",
    "final_avgw2v_cv_data=sent_vectors_cv\n",
    "for sent_cv in tqdm(list_of_sentance_cv): # for each cv_review/sentence\n",
    "    sent_vec_cv = np.zeros(50) # as word vectors are of zero length 50, you might need to change this to 300 if you use google's w2v\n",
    "    cnt_words_cv =0; # num of words with a valid vector in the cv_sentence/review\n",
    "    for word_cv in sent_cv: # for each word in a cv_review/sentence\n",
    "        if word_cv in w2v_words_train:\n",
    "            vec_cv = w2v_train_model.wv[word_cv]\n",
    "            sent_vec_cv += vec_cv\n",
    "            cnt_words_cv += 1\n",
    "    if cnt_words_cv != 0:\n",
    "        sent_vec_cv /= cnt_words_cv\n",
    "    sent_vectors_cv.append(sent_vec_cv)\n",
    "print(len(sent_vectors_cv))\n",
    "print(len(sent_vectors_cv[0]))\n",
    "print(type(sent_vectors_cv))"
   ]
  },
  {
   "cell_type": "code",
   "execution_count": 74,
   "metadata": {},
   "outputs": [
    {
     "name": "stderr",
     "output_type": "stream",
     "text": [
      "100%|█████████████████████████████████████| 6000/6000 [00:06<00:00, 881.94it/s]\n"
     ]
    },
    {
     "name": "stdout",
     "output_type": "stream",
     "text": [
      "6000\n",
      "50\n",
      "<class 'list'>\n"
     ]
    }
   ],
   "source": [
    "# average Word2Vec test data \n",
    "# compute average word2vec_test for each review.\n",
    "sent_vectors_test = []; # the avg-w2v_test for each sentence/review is stored in this list\n",
    "final_avgw2v_test_data=sent_vectors_test\n",
    "for sent_test in tqdm(list_of_sentance_test): # for each train_review/sentence\n",
    "    sent_vec_test = np.zeros(50) # as word vectors are of zero length 50, you might need to change this to 300 if you use google's w2v\n",
    "    cnt_words_test =0; # num of words with a valid vector in the test_sentence/review\n",
    "    for word_test in sent_test: # for each word in a test_review/sentence\n",
    "        if word_test in w2v_words_train:\n",
    "            vec_test = w2v_train_model.wv[word_test]\n",
    "            sent_vec_test += vec_test\n",
    "            cnt_words_test += 1\n",
    "    if cnt_words_test != 0:\n",
    "        sent_vec_test /= cnt_words_test\n",
    "    sent_vectors_test.append(sent_vec_test)\n",
    "print(len(sent_vectors_test))\n",
    "print(len(sent_vectors_test[0]))\n",
    "print(type(sent_vectors_test))"
   ]
  },
  {
   "cell_type": "code",
   "execution_count": 75,
   "metadata": {},
   "outputs": [
    {
     "name": "stdout",
     "output_type": "stream",
     "text": [
      "k= 1 CV: 0.6002928356023616 Train: 1.0\n",
      "k= 9 CV: 0.7448619441328775 Train: 0.8697764314787049\n",
      "k= 17 CV: 0.7773595178287181 Train: 0.8465937103570391\n",
      "k= 25 CV: 0.7840555716003197 Train: 0.833508309160761\n",
      "k= 33 CV: 0.7884588099187986 Train: 0.8229536765335044\n",
      "k= 41 CV: 0.7892217524464534 Train: 0.8189149330721304\n",
      "k= 49 CV: 0.785556060219358 Train: 0.8156746513610482\n",
      "k= 57 CV: 0.7879452142199894 Train: 0.8108057337026278\n",
      "k= 65 CV: 0.7907142653251751 Train: 0.8083511134451472\n",
      "k= 73 CV: 0.7908557297718434 Train: 0.8054973776305092\n",
      "k= 81 CV: 0.7897263229654307 Train: 0.8028822731727845\n",
      "k= 89 CV: 0.7886632407363875 Train: 0.7999091832403601\n",
      "k= 97 CV: 0.7888093227169234 Train: 0.7972513726876725\n"
     ]
    },
    {
     "data": {
      "image/png": "[encoded data removed]",
      "text/plain": [
       "<Figure size 432x288 with 1 Axes>"
      ]
     },
     "metadata": {},
     "output_type": "display_data"
    }
   ],
   "source": [
    "#finding the best hyper parameter  using simple loop method  on avgw2v\n",
    "# Reference ,code re-using from sample solution ipynb\n",
    "#finding the best hyper parameter using train and cv for avgw2v data \n",
    "train_auc = []\n",
    "cv_auc = []\n",
    "K = list(range(1,100,8))\n",
    "for i in K:\n",
    "    neigh = KNeighborsClassifier(n_neighbors=i)\n",
    "    neigh.fit(final_avgw2v_train_data, y_avgw2v_train_data)\n",
    "    # roc_auc_score(y_true, y_score) the 2nd parameter should be probability estimates of the positive class\n",
    "    # not the predicted outputs\n",
    "    y_train_pred =  neigh.predict_proba(final_avgw2v_train_data)[:,1]\n",
    "    y_cv_pred =  neigh.predict_proba(final_avgw2v_cv_data)[:,1]\n",
    "    train_auc_score=roc_auc_score(y_avgw2v_train_data,y_train_pred)\n",
    "    train_auc.append(train_auc_score)\n",
    "    cv_auc_score=roc_auc_score(y_avgw2v_cv_data, y_cv_pred)\n",
    "    cv_auc.append(cv_auc_score)\n",
    "    print(\"k=\",i,\"CV:\",cv_auc_score,\"Train:\",train_auc_score)\n",
    "\n",
    "plt.plot(K, train_auc, label='Train AUC')\n",
    "plt.plot(K, cv_auc, label='CV AUC')\n",
    "plt.legend()\n",
    "plt.xlabel(\"K: hyperparameter\")\n",
    "plt.ylabel(\"AUC\")\n",
    "plt.title(\"AUC vs Hyperparameter\")\n",
    "plt.show()"
   ]
  },
  {
   "cell_type": "markdown",
   "metadata": {},
   "source": [
    "Here we get optimal k is 9 after k=9 the cv-scores are similar so we take optimal k=9"
   ]
  },
  {
   "cell_type": "code",
   "execution_count": 92,
   "metadata": {},
   "outputs": [
    {
     "data": {
      "image/png": "[encoded data removed]",
      "text/plain": [
       "<Figure size 432x288 with 1 Axes>"
      ]
     },
     "metadata": {},
     "output_type": "display_data"
    }
   ],
   "source": [
    "#applying  knn kd-tree version on avgw2v data\n",
    "\n",
    "neigh = KNeighborsClassifier(n_neighbors=9,algorithm = 'kd_tree')\n",
    "neigh.fit(final_avgw2v_train_data, y_avgw2v_train_data)\n",
    "\n",
    "\n",
    "avgw2v_train_fpr, avgw2v_train_tpr, avgw2v_thresholds = roc_curve(y_avgw2v_train_data, neigh.predict_proba(final_avgw2v_train_data)[:,1])\n",
    "avgw2v_test_fpr, avgw2v_test_tpr, avgw2v_thresholds = roc_curve(y_avgw2v_test_data, neigh.predict_proba(final_avgw2v_test_data)[:,1])\n",
    "\n",
    "plt.plot(avgw2v_train_fpr, avgw2v_train_tpr, label=\"train AUC =\"+str(auc(avgw2v_train_fpr, avgw2v_train_tpr)))\n",
    "plt.plot(avgw2v_test_fpr, avgw2v_test_tpr, label=\"test AUC =\"+str(auc(avgw2v_test_fpr, avgw2v_test_tpr)))\n",
    "plt.legend()\n",
    "plt.xlabel(\"K: hyperparameter\")\n",
    "plt.ylabel(\"AUC\")\n",
    "plt.title(\"ROC CURVES ON TRAIN AND TEST \")\n",
    "plt.show()"
   ]
  },
  {
   "cell_type": "code",
   "execution_count": 93,
   "metadata": {},
   "outputs": [
    {
     "name": "stdout",
     "output_type": "stream",
     "text": [
      "avgw2v Test confusion matrix\n",
      "[[ 155  116]\n",
      " [ 822 4907]]\n"
     ]
    },
    {
     "data": {
      "image/png": "[encoded data removed]",
      "text/plain": [
       "<Figure size 432x288 with 2 Axes>"
      ]
     },
     "metadata": {},
     "output_type": "display_data"
    }
   ],
   "source": [
    "#avgw2v Test data confusion matrix\n",
    "print(\"avgw2v Test confusion matrix\")\n",
    "avgw2v_cm_test = confusion_matrix(neigh.predict(final_avgw2v_test_data),y_avgw2v_test_data)\n",
    "sns.heatmap(avgw2v_cm_test, annot=True, fmt=\"d\")\n",
    "plt.title(\"avgw2v test confusion matrix\")\n",
    "plt.xlabel(\"predictual\")\n",
    "plt.ylabel(\"Actual\")\n",
    "print(avgw2v_cm_test)"
   ]
  },
  {
   "cell_type": "markdown",
   "metadata": {},
   "source": [
    "<h2><b>OBSERVATIONS</b></h2><br>\n",
    "Here we get train auc 0.86 and test auc 0.74  and confusion matrix says 5062 are correctly predicited 938 are in-correctly predicted both positive's and negatives overall this model performance is average "
   ]
  },
  {
   "cell_type": "markdown",
   "metadata": {},
   "source": [
    "### [5.2.4] Applying KNN kd-tree on TFIDF W2V,<font color='red'> SET 4</font>"
   ]
  },
  {
   "cell_type": "code",
   "execution_count": 78,
   "metadata": {},
   "outputs": [
    {
     "name": "stdout",
     "output_type": "stream",
     "text": [
      "tfidfw2v Data splitted sucessfully in to train ,test,cv\n"
     ]
    }
   ],
   "source": [
    "x_tfidfw2v=final['CleanedText'][:20000,] #taking whole data\n",
    "y_tfidfw2v=final['Score'][:20000,]\n",
    "#splitted the whole data in to train and test\n",
    "x_tfidfw2v_train,x_tfidfw2v_test_data,y_tfidfw2v_train,y_tfidfw2v_test_data = train_test_split(x_tfidfw2v, y_tfidfw2v, test_size=0.3, random_state=0)\n",
    "#splitted the above train data into 2nd train and cross validation \n",
    "x_tfidfw2v_train_data,x_tfidfw2v_cv_data,y_tfidfw2v_train_data,y_tfidfw2v_cv_data = train_test_split(x_tfidfw2v_train, y_tfidfw2v_train, test_size=0.3, random_state=0)\n",
    "\n",
    "print(\"tfidfw2v Data splitted sucessfully in to train ,test,cv\")\n",
    "\n",
    "#tfidfw2v train \n",
    "tfidfw2v_model_train = TfidfVectorizer(max_features=500)\n",
    "final_tfidfw2v_train=tfidfw2v_model_train.fit(x_tfidfw2v_train_data)\n",
    "dictionary_train = dict(zip(final_tfidfw2v_train.get_feature_names(), list(final_tfidfw2v_train.idf_)))"
   ]
  },
  {
   "cell_type": "code",
   "execution_count": 79,
   "metadata": {},
   "outputs": [
    {
     "name": "stderr",
     "output_type": "stream",
     "text": [
      "100%|█████████████████████████████████████| 9800/9800 [00:14<00:00, 663.31it/s]\n"
     ]
    },
    {
     "name": "stdout",
     "output_type": "stream",
     "text": [
      "50\n",
      "9800\n",
      "<class 'list'>\n"
     ]
    }
   ],
   "source": [
    "# TF-IDF weighted Word2Vec\n",
    "tfidf_feat_train = final_tfidfw2v_train.get_feature_names() # tfidf words/col-names\n",
    "# final_tf_idf is the sparse matrix with row= sentence, col=word and cell_val = tfidf\n",
    "\n",
    "tfidf_sent_vectors_train = [];# the tfidf-w2v for each sentence/review is stored in this list\n",
    "final_tfidfw2v_train_data=tfidf_sent_vectors_train\n",
    "row=0;\n",
    "for sent_train in tqdm(list_of_sentance_train): # for each review/sentence \n",
    "    sent_vec_train = np.zeros(50) # as word vectors are of zero length\n",
    "    weight_sum_train =0; # num of words with a valid vector in the sentence/review\n",
    "    for word in sent_train: # for each word in a review/sentence\n",
    "        if word in w2v_words_train and word in tfidf_feat_train:\n",
    "            vec_train = w2v_train_model.wv[word]\n",
    "             #tf_idf = tf_idf_matrix[row, tfidf_feat.index(word)]\n",
    "            # to reduce the computation we are \n",
    "            # dictionary[word] = idf value of word in whole courpus\n",
    "            # sent.count(word) = tf valeus of word in this review\n",
    "            tf_idf_train = dictionary_train[word]*(sent_train.count(word)/len(sent_train))\n",
    "            sent_vec_train += (vec_train * tf_idf_train)\n",
    "            weight_sum_train += tf_idf_train\n",
    "    if weight_sum_train != 0:\n",
    "        sent_vec_train /= weight_sum_train\n",
    "    tfidf_sent_vectors_train.append(sent_vec_train)\n",
    "    row += 1\n",
    "print(len(sent_vec_train))\n",
    "print(len(tfidf_sent_vectors_train))  \n",
    "print(type(tfidf_sent_vectors_train))"
   ]
  },
  {
   "cell_type": "code",
   "execution_count": 80,
   "metadata": {},
   "outputs": [
    {
     "name": "stderr",
     "output_type": "stream",
     "text": [
      "100%|█████████████████████████████████████| 4200/4200 [00:06<00:00, 647.73it/s]\n"
     ]
    },
    {
     "name": "stdout",
     "output_type": "stream",
     "text": [
      "50\n",
      "4200\n",
      "<class 'list'>\n"
     ]
    }
   ],
   "source": [
    "#tfidfw2v cv data \n",
    "tfidfw2v_model_train = TfidfVectorizer(max_features=500)\n",
    "final_tfidfw2v_train=tfidfw2v_model_train.fit(x_tfidfw2v_train_data)\n",
    "dictionary_train = dict(zip(final_tfidfw2v_train.get_feature_names(), list(final_tfidfw2v_train.idf_)))\n",
    "\n",
    "\n",
    "tfidf_feat_cv = final_tfidfw2v_train.get_feature_names() # tfidf words/col-names\n",
    "# final_tf_idf is the sparse matrix with row= sentence, col=word and cell_val = tfidf\n",
    "\n",
    "tfidf_sent_vectors_cv = []; # the tfidf-w2v for each sentence/review is stored in this list\n",
    "final_tfidfw2v_cv_data=tfidf_sent_vectors_cv\n",
    "row=0;\n",
    "for sent_cv in tqdm(list_of_sentance_cv): # for each review/sentence \n",
    "    sent_vec_cv = np.zeros(50) # as word vectors are of zero length\n",
    "    weight_sum_cv =0; # num of words with a valid vector in the sentence/review\n",
    "    for word_cv in sent_cv: # for each word in a review/sentence\n",
    "        if word_cv in w2v_words_train and word_cv in tfidf_feat_cv:\n",
    "            vec_cv = w2v_train_model.wv[word_cv]\n",
    "             #tf_idf = tf_idf_matrix[row, tfidf_feat.index(word)]\n",
    "            # to reduce the computation we are \n",
    "            # dictionary[word] = idf value of word in whole courpus\n",
    "            # sent.count(word) = tf valeus of word in this review\n",
    "            tf_idf_cv = dictionary_train[word_cv]*(sent_cv.count(word_cv)/len(sent_cv))\n",
    "            sent_vec_cv += (vec_cv * tf_idf_cv)\n",
    "            weight_sum_cv += tf_idf_cv\n",
    "    if weight_sum_cv != 0:\n",
    "        sent_vec_cv /= weight_sum_cv\n",
    "    tfidf_sent_vectors_cv.append(sent_vec_cv)\n",
    "    row += 1\n",
    "print(len(sent_vec_cv))\n",
    "print(len(tfidf_sent_vectors_cv))  \n",
    "print(type(tfidf_sent_vectors_cv))"
   ]
  },
  {
   "cell_type": "code",
   "execution_count": 81,
   "metadata": {},
   "outputs": [
    {
     "name": "stderr",
     "output_type": "stream",
     "text": [
      "100%|█████████████████████████████████████| 6000/6000 [00:09<00:00, 622.74it/s]\n"
     ]
    },
    {
     "name": "stdout",
     "output_type": "stream",
     "text": [
      "50\n",
      "6000\n",
      "<class 'list'>\n"
     ]
    }
   ],
   "source": [
    "#tfidfw2v test data \n",
    "tfidfw2v_model_train = TfidfVectorizer(max_features=500)\n",
    "final_tfidfw2v_train=tfidfw2v_model_train.fit(x_tfidfw2v_train_data)\n",
    "dictionary_train = dict(zip(final_tfidfw2v_train.get_feature_names(), list(final_tfidfw2v_train.idf_)))\n",
    "\n",
    "\n",
    "tfidf_feat_test = final_tfidfw2v_train.get_feature_names() # tfidf words/col-names\n",
    "# final_tf_idf is the sparse matrix with row= sentence, col=word and cell_val = tfidf\n",
    "\n",
    "tfidf_sent_vectors_test = []; # the tfidf-w2v for each sentence/review is stored in this list\n",
    "final_tfidfw2v_test_data=tfidf_sent_vectors_test\n",
    "row=0;\n",
    "for sent_test in tqdm(list_of_sentance_test): # for each review/sentence \n",
    "    sent_vec_test = np.zeros(50) # as word vectors are of zero length\n",
    "    weight_sum_test =0; # num of words with a valid vector in the sentence/review\n",
    "    for word_test in sent_test: # for each word in a review/sentence\n",
    "        if word_test in w2v_words_train and word_test in tfidf_feat_test:\n",
    "            vec_test = w2v_train_model.wv[word_test]\n",
    "             #tf_idf = tf_idf_matrix[row, tfidf_feat.index(word)]\n",
    "            # to reduce the computation we are \n",
    "            # dictionary[word] = idf value of word in whole courpus\n",
    "            # sent.count(word) = tf valeus of word in this review\n",
    "            tf_idf_test = dictionary_train[word_test]*(sent_test.count(word_test)/len(sent_test))\n",
    "            sent_vec_test += (vec_test * tf_idf_test)\n",
    "            weight_sum_test += tf_idf_test\n",
    "    if weight_sum_test != 0:\n",
    "        sent_vec_test /= weight_sum_test\n",
    "    tfidf_sent_vectors_test.append(sent_vec_test)\n",
    "    row += 1\n",
    "print(len(sent_vec_test))\n",
    "print(len(tfidf_sent_vectors_test))  \n",
    "print(type(tfidf_sent_vectors_test))  "
   ]
  },
  {
   "cell_type": "code",
   "execution_count": 82,
   "metadata": {},
   "outputs": [
    {
     "name": "stdout",
     "output_type": "stream",
     "text": [
      "k= 1 CV: 0.5679902477684717 Train: 1.0\n",
      "k= 9 CV: 0.7007615572674947 Train: 0.8447392817888064\n",
      "k= 17 CV: 0.7337085009638051 Train: 0.8197643653732063\n",
      "k= 25 CV: 0.7381096404032534 Train: 0.8075517675902792\n",
      "k= 33 CV: 0.7426312554990631 Train: 0.7971784148404718\n",
      "k= 41 CV: 0.7431639509970516 Train: 0.7908547223215879\n",
      "k= 49 CV: 0.7388255680406209 Train: 0.7832687206645453\n",
      "k= 57 CV: 0.7392680117402899 Train: 0.7806171757225498\n",
      "k= 65 CV: 0.7413488404113131 Train: 0.7776946719476157\n",
      "k= 73 CV: 0.7440576536883182 Train: 0.776656233463881\n",
      "k= 81 CV: 0.7418357803464326 Train: 0.7735058997835943\n",
      "k= 89 CV: 0.7411104077534271 Train: 0.7701319645241892\n",
      "k= 97 CV: 0.7421946886606802 Train: 0.7677851281463457\n"
     ]
    },
    {
     "data": {
      "image/png": "[encoded data removed]",
      "text/plain": [
       "<Figure size 432x288 with 1 Axes>"
      ]
     },
     "metadata": {},
     "output_type": "display_data"
    }
   ],
   "source": [
    "#finding the best hyperparameter using train and cv for tfidfw2v data\n",
    "train_auc = []\n",
    "cv_auc = []\n",
    "K = list(range(1,100,8))\n",
    "for i in K:\n",
    "    neigh = KNeighborsClassifier(n_neighbors=i)\n",
    "    neigh.fit(final_tfidfw2v_train_data, y_tfidfw2v_train_data)\n",
    "    # roc_auc_score(y_true, y_score) the 2nd parameter should be probability estimates of the positive class\n",
    "    # not the predicted outputs\n",
    "    y_train_pred =  neigh.predict_proba(final_tfidfw2v_train_data)[:,1]\n",
    "    y_cv_pred =  neigh.predict_proba(final_tfidfw2v_cv_data)[:,1]\n",
    "    train_auc_score=roc_auc_score(y_tfidfw2v_train_data,y_train_pred)\n",
    "    train_auc.append(train_auc_score)\n",
    "    cv_auc_score=roc_auc_score(y_tfidfw2v_cv_data, y_cv_pred)\n",
    "    cv_auc.append(cv_auc_score)\n",
    "    print(\"k=\",i,\"CV:\",cv_auc_score,\"Train:\",train_auc_score)\n",
    "\n",
    "plt.plot(K, train_auc, label='Train AUC')\n",
    "plt.plot(K, cv_auc, label='CV AUC')\n",
    "plt.legend()\n",
    "plt.xlabel(\"K: hyperparameter\")\n",
    "plt.ylabel(\"AUC\")\n",
    "plt.title(\"Auc vs Hyperparameter\")\n",
    "plt.show()\n"
   ]
  },
  {
   "cell_type": "markdown",
   "metadata": {},
   "source": [
    "Here we get optial k is 9 afterk=9 ther is not much change in cv_auc_scores so we consider k=9 as optimal k "
   ]
  },
  {
   "cell_type": "code",
   "execution_count": 94,
   "metadata": {},
   "outputs": [
    {
     "data": {
      "image/png": "[encoded data removed]",
      "text/plain": [
       "<Figure size 432x288 with 1 Axes>"
      ]
     },
     "metadata": {},
     "output_type": "display_data"
    }
   ],
   "source": [
    "#applying  knn brute version on tfidfw2v data\n",
    "\n",
    "neigh = KNeighborsClassifier(n_neighbors=9,algorithm = 'kd_tree')\n",
    "neigh.fit(final_tfidfw2v_train_data, y_tfidfw2v_train_data)\n",
    "\n",
    "\n",
    "tfidfw2v_train_fpr, tfidfw2v_train_tpr, tfidfw2v_thresholds = roc_curve(y_tfidfw2v_train_data, neigh.predict_proba(final_tfidfw2v_train_data)[:,1])\n",
    "tfidfw2v_test_fpr, tfidfw2v_test_tpr, tfidfw2v_thresholds = roc_curve(y_tfidfw2v_test_data, neigh.predict_proba(final_tfidfw2v_test_data)[:,1])\n",
    "\n",
    "plt.plot(tfidfw2v_train_fpr, tfidfw2v_train_tpr, label=\"train AUC =\"+str(auc(tfidfw2v_train_fpr, tfidfw2v_train_tpr)))\n",
    "plt.plot(tfidfw2v_test_fpr, tfidfw2v_test_tpr, label=\"test AUC =\"+str(auc(tfidfw2v_test_fpr, tfidfw2v_test_tpr)))\n",
    "plt.legend()\n",
    "plt.xlabel(\"K: hyperparameter\")\n",
    "plt.ylabel(\"AUC\")\n",
    "plt.title(\"ROC CURVES ON TRAIN AND TEST \")\n",
    "plt.show()"
   ]
  },
  {
   "cell_type": "code",
   "execution_count": 95,
   "metadata": {},
   "outputs": [
    {
     "name": "stdout",
     "output_type": "stream",
     "text": [
      "tfidfw2v Test confusion matrix\n",
      "[[ 119  109]\n",
      " [ 858 4914]]\n"
     ]
    },
    {
     "data": {
      "image/png": "[encoded data removed]",
      "text/plain": [
       "<Figure size 432x288 with 2 Axes>"
      ]
     },
     "metadata": {},
     "output_type": "display_data"
    }
   ],
   "source": [
    "#avgw2v Test data confusion matrix\n",
    "print(\"tfidfw2v Test confusion matrix\")\n",
    "tfidfw2v_cm_test = confusion_matrix(neigh.predict(final_tfidfw2v_test_data),y_tfidfw2v_test_data)\n",
    "sns.heatmap(tfidfw2v_cm_test, annot=True, fmt=\"d\")\n",
    "plt.title(\"tfidfw2v test confusion matrix\")\n",
    "plt.xlabel(\"predictual\")\n",
    "plt.ylabel(\"Actual\")\n",
    "print(tfidfw2v_cm_test)"
   ]
  },
  {
   "cell_type": "markdown",
   "metadata": {},
   "source": [
    "<h2><b>OBSERVATIONS</b></h2><br>\n",
    "confusion matrix says 5033 are correctly predicited and 967 are in-correctly predicted ,and train auc is 0.84 and test auc is 0.70 here test auc gives a not much average performance "
   ]
  },
  {
   "cell_type": "markdown",
   "metadata": {},
   "source": [
    "# [6] Conclusions"
   ]
  },
  {
   "cell_type": "code",
   "execution_count": 100,
   "metadata": {},
   "outputs": [
    {
     "name": "stdout",
     "output_type": "stream",
     "text": [
      "+------------+---------+--------+------+\n",
      "| Vectorizer |  Model  | Best K | Auc  |\n",
      "+------------+---------+--------+------+\n",
      "|    BOW     |  brute  |   9    | 0.71 |\n",
      "|   TF-IDf   |  brute  |   17   | 0.81 |\n",
      "|   AVGW2V   |  brute  |   9    | 0.82 |\n",
      "|  TFIDFW2V  |  brute  |   17   | 0.72 |\n",
      "|    BOW     | k-dtree |   9    | 0.68 |\n",
      "|   TF-IDf   | k-dtree |   9    | 0.74 |\n",
      "|   AVGW2V   | k-dtree |   9    | 0.74 |\n",
      "|  TFIDFW2V  | k-dtree |   9    | 0.7  |\n",
      "+------------+---------+--------+------+\n",
      "##################################################\n",
      "+-----------------+------------+--------+----------+\n",
      "| Best Vectorizer | Best Model | Best K | Best Auc |\n",
      "+-----------------+------------+--------+----------+\n",
      "|      AVGW2V     |   brute    |   9    |   0.82   |\n",
      "+-----------------+------------+--------+----------+\n"
     ]
    }
   ],
   "source": [
    "# compare all your models using Prettytable library\n",
    "#ref : http://zetcode.com/python/prettytable/\n",
    "from prettytable import PrettyTable\n",
    "    \n",
    "x = PrettyTable()\n",
    "\n",
    "x.field_names = [\"Vectorizer\", \"Model\", \"Best K\", \"Auc\"]\n",
    "\n",
    "x.add_row([\"BOW\", \"brute\",9,0.71])\n",
    "x.add_row([\"TF-IDf\",\"brute\",17,0.81 ])\n",
    "x.add_row([\"AVGW2V\", \"brute\",9,0.82])\n",
    "x.add_row([\"TFIDFW2V\", \"brute\",17,0.72])\n",
    "x.add_row([\"BOW\", \"k-dtree\",9,0.68])\n",
    "x.add_row([\"TF-IDf\", \"k-dtree\",9,0.74])\n",
    "x.add_row([\"AVGW2V\", \"k-dtree\",9,0.74])\n",
    "x.add_row([\"TFIDFW2V\", \"k-dtree\",9,0.70])\n",
    "\n",
    "print(x)\n",
    "print(\"#\"*50)\n",
    "\n",
    "x1 = PrettyTable()\n",
    "x1.field_names = [\"Best Vectorizer\", \"Best Model\", \"Best K\", \"Best Auc\"]\n",
    "x1.add_row([\"AVGW2V\", \"brute\",9,0.82])\n",
    "print(x1)"
   ]
  },
  {
   "cell_type": "markdown",
   "metadata": {},
   "source": [
    "<h3>conclusions</h3>\n",
    "<p>1.Here we get better vectorization is avgw2v with brute force algorithm with optimal k=9<br>\n",
    "   2.Most of optimal k value is 9 only for tfidf and tfidf w2v k=17 these both vectorizers got same optimal k values <br>\n",
    "    3.Avgw2v gives a better results next tf-idf which also gives 0.81 is also a good model <br>\n",
    "    4.So finally here brute model gives better results compare to kd-tree \n",
    "    \n",
    "</p>"
   ]
  }
 ],
 "metadata": {
  "kernelspec": {
   "display_name": "Python 3",
   "language": "python",
   "name": "python3"
  },
  "language_info": {
   "codemirror_mode": {
    "name": "ipython",
    "version": 3
   },
   "file_extension": ".py",
   "mimetype": "text/x-python",
   "name": "python",
   "nbconvert_exporter": "python",
   "pygments_lexer": "ipython3",
   "version": "3.6.5"
  }
 },
 "nbformat": 4,
 "nbformat_minor": 2
}
